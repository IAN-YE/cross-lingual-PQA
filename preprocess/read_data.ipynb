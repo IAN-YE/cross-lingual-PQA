{
 "cells": [
  {
   "cell_type": "code",
   "execution_count": 2,
   "id": "initial_id",
   "metadata": {
    "collapsed": true,
    "ExecuteTime": {
     "end_time": "2025-02-27T15:53:39.399750Z",
     "start_time": "2025-02-27T15:53:39.103831Z"
    }
   },
   "outputs": [],
   "source": [
    "import pandas as pd\n",
    "import numpy as np\n",
    "import json"
   ]
  },
  {
   "cell_type": "code",
   "execution_count": 3,
   "outputs": [],
   "source": [
    "def read_jsonl(file_path):\n",
    "    data = []\n",
    "    with open(file_path, 'r', encoding='utf-8') as f:\n",
    "        for line in f:\n",
    "            data.append(json.loads(line))\n",
    "    return data"
   ],
   "metadata": {
    "collapsed": false,
    "ExecuteTime": {
     "end_time": "2025-02-27T15:53:40.330424Z",
     "start_time": "2025-02-27T15:53:40.328951Z"
    }
   },
   "id": "6300345d88560003"
  },
  {
   "cell_type": "code",
   "execution_count": 5,
   "outputs": [],
   "source": [
    "cn_questions = read_jsonl('../data/McMarket_all/McMarket/cn_questions_translated.jsonl')\n",
    "br_questions = read_jsonl('../data/McMarket_all/McMarket/br_questions_translated.jsonl')\n",
    "au_questions = read_jsonl('../data/McMarket_all/McMarket/au_questions.jsonl')\n",
    "ca_questions = read_jsonl('../data/McMarket_all/McMarket/ca_questions.jsonl')\n",
    "de_questions = read_jsonl('../data/McMarket_all/McMarket/de_questions.jsonl')\n",
    "es_questions = read_jsonl('../data/McMarket_all/McMarket/es_questions.jsonl')\n",
    "fr_questions = read_jsonl('../data/McMarket_all/McMarket/fr_questions_translated.jsonl')\n",
    "in_questions = read_jsonl('../data/McMarket_all/McMarket/in_questions.jsonl')\n",
    "it_questions = read_jsonl('../data/McMarket_all/McMarket/it_questions.jsonl')\n",
    "jp_questions = read_jsonl('../data/McMarket_all/McMarket/jp_questions_translated.jsonl')\n",
    "mx_questions = read_jsonl('../data/McMarket_all/McMarket/mx_questions_translated.jsonl')\n",
    "uk_questions = read_jsonl('../data/McMarket_all/McMarket/uk_questions.jsonl')\n",
    "us_questions = read_jsonl('../data/McMarket_all/McMarket/us_questions.jsonl')"
   ],
   "metadata": {
    "collapsed": false,
    "ExecuteTime": {
     "end_time": "2025-02-27T15:54:10.944628Z",
     "start_time": "2025-02-27T15:53:53.896007Z"
    }
   },
   "id": "39af5c513bf8ec27"
  },
  {
   "cell_type": "code",
   "execution_count": 7,
   "outputs": [
    {
     "name": "stdout",
     "output_type": "stream",
     "text": [
      "cn_questions:  3324\n",
      "br_questions:  1378\n",
      "au_questions:  584\n",
      "ca_questions:  101126\n",
      "de_questions:  135115\n",
      "es_questions:  79708\n",
      "fr_questions:  66536\n",
      "in_questions:  115829\n",
      "it_questions:  197788\n",
      "jp_questions:  17418\n",
      "mx_questions:  34433\n",
      "uk_questions:  164848\n",
      "us_questions:  1782092\n"
     ]
    }
   ],
   "source": [
    "print(\"cn_questions: \", len(cn_questions))\n",
    "print(\"br_questions: \", len(br_questions))\n",
    "print(\"au_questions: \", len(au_questions))\n",
    "print(\"ca_questions: \", len(ca_questions))\n",
    "print(\"de_questions: \", len(de_questions))\n",
    "print(\"es_questions: \", len(es_questions))\n",
    "print(\"fr_questions: \", len(fr_questions))\n",
    "print(\"in_questions: \", len(in_questions))\n",
    "print(\"it_questions: \", len(it_questions))\n",
    "print(\"jp_questions: \", len(jp_questions))\n",
    "print(\"mx_questions: \", len(mx_questions))\n",
    "print(\"uk_questions: \", len(uk_questions))\n",
    "print(\"us_questions: \", len(us_questions))"
   ],
   "metadata": {
    "collapsed": false,
    "ExecuteTime": {
     "end_time": "2025-02-27T15:54:55.862652Z",
     "start_time": "2025-02-27T15:54:55.858702Z"
    }
   },
   "id": "9cadcf9d9b51d5c9"
  },
  {
   "cell_type": "code",
   "execution_count": 4,
   "outputs": [],
   "source": [
    "# cn_reviews = read_jsonl('../data/McMarket_all/McMarket/cn_reviews_translated.jsonl')"
   ],
   "metadata": {
    "collapsed": false,
    "ExecuteTime": {
     "end_time": "2025-02-21T13:08:23.306883Z",
     "start_time": "2025-02-21T13:08:23.293059Z"
    }
   },
   "id": "97cf2f51600bad6"
  },
  {
   "cell_type": "code",
   "execution_count": 9,
   "outputs": [
    {
     "name": "stdout",
     "output_type": "stream",
     "text": [
      "all_questions:  2700179\n"
     ]
    }
   ],
   "source": [
    "all_questions = cn_questions + br_questions + au_questions + ca_questions + de_questions + es_questions + fr_questions + in_questions + it_questions + jp_questions + mx_questions + uk_questions + us_questions\n",
    "\n",
    "print(\"all_questions: \", len(all_questions))"
   ],
   "metadata": {
    "collapsed": false,
    "ExecuteTime": {
     "end_time": "2025-02-27T15:55:49.772226Z",
     "start_time": "2025-02-27T15:55:49.771142Z"
    }
   },
   "id": "eaa92e430e68e159"
  },
  {
   "cell_type": "code",
   "execution_count": 14,
   "outputs": [
    {
     "ename": "KeyboardInterrupt",
     "evalue": "",
     "output_type": "error",
     "traceback": [
      "\u001B[0;31m---------------------------------------------------------------------------\u001B[0m",
      "\u001B[0;31mKeyboardInterrupt\u001B[0m                         Traceback (most recent call last)",
      "Cell \u001B[0;32mIn[14], line 13\u001B[0m\n\u001B[1;32m     11\u001B[0m mx_reviews \u001B[38;5;241m=\u001B[39m read_jsonl(\u001B[38;5;124m'\u001B[39m\u001B[38;5;124m../data/McMarket_all/McMarket/mx_reviews_translated.jsonl\u001B[39m\u001B[38;5;124m'\u001B[39m)\n\u001B[1;32m     12\u001B[0m uk_reviews \u001B[38;5;241m=\u001B[39m read_jsonl(\u001B[38;5;124m'\u001B[39m\u001B[38;5;124m../data/McMarket_all/McMarket/uk_reviews.jsonl\u001B[39m\u001B[38;5;124m'\u001B[39m)\n\u001B[0;32m---> 13\u001B[0m us_reviews \u001B[38;5;241m=\u001B[39m read_jsonl(\u001B[38;5;124m'\u001B[39m\u001B[38;5;124m../data/McMarket_all/McMarket/us_reviews.jsonl\u001B[39m\u001B[38;5;124m'\u001B[39m)\n",
      "Cell \u001B[0;32mIn[3], line 5\u001B[0m, in \u001B[0;36mread_jsonl\u001B[0;34m(file_path)\u001B[0m\n\u001B[1;32m      3\u001B[0m \u001B[38;5;28;01mwith\u001B[39;00m \u001B[38;5;28mopen\u001B[39m(file_path, \u001B[38;5;124m'\u001B[39m\u001B[38;5;124mr\u001B[39m\u001B[38;5;124m'\u001B[39m, encoding\u001B[38;5;241m=\u001B[39m\u001B[38;5;124m'\u001B[39m\u001B[38;5;124mutf-8\u001B[39m\u001B[38;5;124m'\u001B[39m) \u001B[38;5;28;01mas\u001B[39;00m f:\n\u001B[1;32m      4\u001B[0m     \u001B[38;5;28;01mfor\u001B[39;00m line \u001B[38;5;129;01min\u001B[39;00m f:\n\u001B[0;32m----> 5\u001B[0m         data\u001B[38;5;241m.\u001B[39mappend(json\u001B[38;5;241m.\u001B[39mloads(line))\n\u001B[1;32m      6\u001B[0m \u001B[38;5;28;01mreturn\u001B[39;00m data\n",
      "File \u001B[0;32m~/anaconda3/lib/python3.11/json/__init__.py:346\u001B[0m, in \u001B[0;36mloads\u001B[0;34m(s, cls, object_hook, parse_float, parse_int, parse_constant, object_pairs_hook, **kw)\u001B[0m\n\u001B[1;32m    341\u001B[0m     s \u001B[38;5;241m=\u001B[39m s\u001B[38;5;241m.\u001B[39mdecode(detect_encoding(s), \u001B[38;5;124m'\u001B[39m\u001B[38;5;124msurrogatepass\u001B[39m\u001B[38;5;124m'\u001B[39m)\n\u001B[1;32m    343\u001B[0m \u001B[38;5;28;01mif\u001B[39;00m (\u001B[38;5;28mcls\u001B[39m \u001B[38;5;129;01mis\u001B[39;00m \u001B[38;5;28;01mNone\u001B[39;00m \u001B[38;5;129;01mand\u001B[39;00m object_hook \u001B[38;5;129;01mis\u001B[39;00m \u001B[38;5;28;01mNone\u001B[39;00m \u001B[38;5;129;01mand\u001B[39;00m\n\u001B[1;32m    344\u001B[0m         parse_int \u001B[38;5;129;01mis\u001B[39;00m \u001B[38;5;28;01mNone\u001B[39;00m \u001B[38;5;129;01mand\u001B[39;00m parse_float \u001B[38;5;129;01mis\u001B[39;00m \u001B[38;5;28;01mNone\u001B[39;00m \u001B[38;5;129;01mand\u001B[39;00m\n\u001B[1;32m    345\u001B[0m         parse_constant \u001B[38;5;129;01mis\u001B[39;00m \u001B[38;5;28;01mNone\u001B[39;00m \u001B[38;5;129;01mand\u001B[39;00m object_pairs_hook \u001B[38;5;129;01mis\u001B[39;00m \u001B[38;5;28;01mNone\u001B[39;00m \u001B[38;5;129;01mand\u001B[39;00m \u001B[38;5;129;01mnot\u001B[39;00m kw):\n\u001B[0;32m--> 346\u001B[0m     \u001B[38;5;28;01mreturn\u001B[39;00m _default_decoder\u001B[38;5;241m.\u001B[39mdecode(s)\n\u001B[1;32m    347\u001B[0m \u001B[38;5;28;01mif\u001B[39;00m \u001B[38;5;28mcls\u001B[39m \u001B[38;5;129;01mis\u001B[39;00m \u001B[38;5;28;01mNone\u001B[39;00m:\n\u001B[1;32m    348\u001B[0m     \u001B[38;5;28mcls\u001B[39m \u001B[38;5;241m=\u001B[39m JSONDecoder\n",
      "File \u001B[0;32m~/anaconda3/lib/python3.11/json/decoder.py:338\u001B[0m, in \u001B[0;36mJSONDecoder.decode\u001B[0;34m(self, s, _w)\u001B[0m\n\u001B[1;32m    333\u001B[0m \u001B[38;5;250m\u001B[39m\u001B[38;5;124;03m\"\"\"Return the Python representation of ``s`` (a ``str`` instance\u001B[39;00m\n\u001B[1;32m    334\u001B[0m \u001B[38;5;124;03mcontaining a JSON document).\u001B[39;00m\n\u001B[1;32m    335\u001B[0m \n\u001B[1;32m    336\u001B[0m \u001B[38;5;124;03m\"\"\"\u001B[39;00m\n\u001B[1;32m    337\u001B[0m obj, end \u001B[38;5;241m=\u001B[39m \u001B[38;5;28mself\u001B[39m\u001B[38;5;241m.\u001B[39mraw_decode(s, idx\u001B[38;5;241m=\u001B[39m_w(s, \u001B[38;5;241m0\u001B[39m)\u001B[38;5;241m.\u001B[39mend())\n\u001B[0;32m--> 338\u001B[0m end \u001B[38;5;241m=\u001B[39m _w(s, end)\u001B[38;5;241m.\u001B[39mend()\n\u001B[1;32m    339\u001B[0m \u001B[38;5;28;01mif\u001B[39;00m end \u001B[38;5;241m!=\u001B[39m \u001B[38;5;28mlen\u001B[39m(s):\n\u001B[1;32m    340\u001B[0m     \u001B[38;5;28;01mraise\u001B[39;00m JSONDecodeError(\u001B[38;5;124m\"\u001B[39m\u001B[38;5;124mExtra data\u001B[39m\u001B[38;5;124m\"\u001B[39m, s, end)\n",
      "\u001B[0;31mKeyboardInterrupt\u001B[0m: "
     ]
    }
   ],
   "source": [
    "cn_reviews = read_jsonl('../data/McMarket_all/McMarket/cn_reviews_translated.jsonl')\n",
    "br_reviews = read_jsonl('../data/McMarket_all/McMarket/br_reviews_translated.jsonl')\n",
    "au_reviews = read_jsonl('../data/McMarket_all/McMarket/au_reviews.jsonl')\n",
    "ca_reviews = read_jsonl('../data/McMarket_all/McMarket/ca_reviews.jsonl')\n",
    "de_reviews = read_jsonl('../data/McMarket_all/McMarket/de_reviews.jsonl')\n",
    "es_reviews = read_jsonl('../data/McMarket_all/McMarket/es_reviews.jsonl')\n",
    "fr_reviews = read_jsonl('../data/McMarket_all/McMarket/fr_reviews_translated.jsonl')\n",
    "in_reviews = read_jsonl('../data/McMarket_all/McMarket/in_reviews.jsonl')\n",
    "it_reviews = read_jsonl('../data/McMarket_all/McMarket/it_reviews.jsonl')\n",
    "jp_reviews = read_jsonl('../data/McMarket_all/McMarket/jp_reviews_translated.jsonl')\n",
    "mx_reviews = read_jsonl('../data/McMarket_all/McMarket/mx_reviews_translated.jsonl')\n",
    "uk_reviews = read_jsonl('../data/McMarket_all/McMarket/uk_reviews.jsonl')\n",
    "us_reviews = read_jsonl('../data/McMarket_all/McMarket/us_reviews.jsonl')\n"
   ],
   "metadata": {
    "collapsed": false,
    "ExecuteTime": {
     "end_time": "2025-02-28T13:48:08.494377Z",
     "start_time": "2025-02-28T13:43:15.567941Z"
    }
   },
   "id": "f67750e2bd6477c6"
  },
  {
   "cell_type": "code",
   "execution_count": null,
   "outputs": [],
   "source": [
    "print(\"cn_reviews: \", len(cn_reviews))\n",
    "print(\"br_reviews: \", len(br_reviews))\n",
    "print(\"au_reviews: \", len(au_reviews))\n",
    "print(\"ca_reviews: \", len(ca_reviews))\n",
    "print(\"de_reviews: \", len(de_reviews))\n",
    "print(\"es_reviews: \", len(es_reviews))\n",
    "print(\"fr_reviews: \", len(fr_reviews))\n",
    "print(\"in_reviews: \", len(in_reviews))\n",
    "print(\"it_reviews: \", len(it_reviews))\n",
    "print(\"jp_reviews: \", len(jp_reviews))\n",
    "print(\"mx_reviews: \", len(mx_reviews))\n",
    "print(\"uk_reviews: \", len(uk_reviews))\n",
    "print(\"us_reviews: \", len(us_reviews))"
   ],
   "metadata": {
    "collapsed": false,
    "ExecuteTime": {
     "start_time": "2025-02-28T13:48:08.438502Z"
    }
   },
   "id": "a2e47e0deefc4008"
  },
  {
   "cell_type": "code",
   "execution_count": 10,
   "outputs": [],
   "source": [
    "import pandas as pd\n",
    "import numpy as np\n",
    "\n",
    "def jsonl_to_df(data):\n",
    "    return pd.DataFrame(data)\n",
    "\n",
    "all_questions_df = jsonl_to_df(all_questions)\n"
   ],
   "metadata": {
    "collapsed": false,
    "ExecuteTime": {
     "end_time": "2025-02-27T15:56:16.713099Z",
     "start_time": "2025-02-27T15:56:04.524083Z"
    }
   },
   "id": "d060d606363a765b"
  },
  {
   "cell_type": "code",
   "execution_count": 13,
   "outputs": [
    {
     "data": {
      "text/plain": "(2700179, 13)"
     },
     "execution_count": 13,
     "metadata": {},
     "output_type": "execute_result"
    }
   ],
   "source": [
    "all_questions_df.shape"
   ],
   "metadata": {
    "collapsed": false,
    "ExecuteTime": {
     "end_time": "2025-02-27T15:57:01.802068Z",
     "start_time": "2025-02-27T15:57:01.713378Z"
    }
   },
   "id": "81fcd28a13220187"
  },
  {
   "cell_type": "code",
   "execution_count": 18,
   "outputs": [],
   "source": [
    "asin = cn_questions[0]['asin']"
   ],
   "metadata": {
    "collapsed": false,
    "ExecuteTime": {
     "end_time": "2025-02-19T16:13:19.136024Z",
     "start_time": "2025-02-19T16:13:19.135086Z"
    }
   },
   "id": "5bb5bb2b6d5819e7"
  },
  {
   "cell_type": "code",
   "execution_count": 22,
   "outputs": [
    {
     "name": "stdout",
     "output_type": "stream",
     "text": [
      "{'question': 'Alguien que use ampli puede explicar su opinión si ha probado varios para comparar.', 'topAnswer': 'Muy buen sonido en mi oponion', 'asin': 'B00DCXZY1W', 'topAnswerUser': 'Lucas Barco', 'topAnswerUserId': 'AEDVQ5SUDRPYPR5M727KJSUJNVLQ', 'badges': [], 'votes': 0, 'id': 'TxSD1N8VW7L5GC', 'answerCount': 0, 'questionOrder': 80, 'answerTime': '24 de septiembre de 2019'}\n",
      "{'question': 'Con un tocadiscos Rega 1 Plus, estos auriculares me sirven?', 'topAnswer': 'Se podrán conectar al amplificador al que tengas conectado el plato siempre que este tenga salida de auriculares. Directamente al plato no es posible.', 'asin': 'B00DCXZY1W', 'topAnswerUser': 'Carlos Trujillo', 'topAnswerUserId': 'AEEH7LI42YM27TERGS5B2PZFKXPA', 'badges': [], 'votes': 0, 'id': 'TxT67UIT7NMFAZ', 'answerCount': 0, 'questionOrder': 81, 'answerTime': '29 de junio de 2020'}\n",
      "{'question': '¿caben bien las orejas dentro?', 'topAnswer': 'Si, perfectamente. Son muy cómodos.', 'asin': 'B00DCXZY1W', 'topAnswerUser': 'lce borrego', 'topAnswerUserId': 'AHVVJI5FCOWESA6DVS7AAIZ2I62A', 'badges': [], 'votes': 0, 'id': 'TxTD15GK2EIBVL', 'answerCount': 6, 'questionOrder': 82, 'answerTime': '19 de noviembre de 2017'}\n",
      "{'question': '¿Funcionan bien conectados a un smartphone? he oido que necesitan bastante amplificacion para moverlos', 'topAnswer': 'No los aconsejo para un smartphone. Yo los pongo en mi Xiaomi Mi8 conectados a un fax dragonfly red y los tengo que poner al 90%. Necesitan mucha chicha para moverlos, lo cual siempre me ha extrañado porque la impedancia creo recordar que es de 52 ohmns', 'asin': 'B00DCXZY1W', 'topAnswerUser': 'Cliente Amazon', 'topAnswerUserId': 'AE4FS7ECTIBMD2MQXIJPXWBCCI5Q', 'badges': [], 'votes': 0, 'id': 'TxWKD59UDEHPYV', 'answerCount': 4, 'questionOrder': 83, 'answerTime': '25 de abril de 2020'}\n",
      "{'question': 'tiene alguna diferencia con el AKG K702?', 'topAnswer': 'Pues no lo sé, porque no tengo el K702, pero estos te aseguro que tienen un sonido super analítico. Te puede gustar más o menos, hay opiniones para todos los gustos. A mí me gustan mucho y son muy cómodos. Eso sí, considera comprar un ampli para auriculares porque con la salida normal de un ipod o un móvil se oyen flojito.', 'asin': 'B00DCXZY1W', 'topAnswerUser': 'Fernando', 'topAnswerUserId': 'AFEPNG3VMZIVQRP5L2VC6TKUUJSA', 'badges': [], 'votes': 0, 'id': 'TxZVW4Z1YBKXXM', 'answerCount': 3, 'questionOrder': 84, 'answerTime': '4 de agosto de 2016'}\n",
      "{'question': 'Merecen la pena ? Los quiero para jugar escuchar musica y ver pelis, los utilizo entre 3 y 4 horas diarias, o preferis los 702?', 'topAnswer': 'Los 712 son mejores.', 'asin': 'B00DCXZY1W', 'topAnswerUser': 'Quim', 'topAnswerUserId': 'AGDCF4HFSOQ65X36SCAXS4JDGRKQ', 'badges': [], 'votes': -1, 'id': 'Tx2015EGWPAZ9GZ', 'answerCount': 6, 'questionOrder': 85, 'answerTime': '16 de octubre de 2017'}\n",
      "{'question': '¿alquien sabe donde podría comprar el akg q702 blanco en sevilla?', 'topAnswer': 'Creo que hay una tienda en Sevilla: Sonicolor, está en la avenida Hytasa, 22', 'asin': 'B00DCXZY1W', 'topAnswerUser': 'francesc Orriols Martinez', 'topAnswerUserId': 'AEFHEM6CAOUJHV2DR554KHLD63IQ', 'badges': [], 'votes': 0, 'id': 'Tx2PVVCBJQDPFAW', 'answerCount': 0, 'questionOrder': 40, 'answerTime': '14 de noviembre de 2019'}\n",
      "{'question': 'Número de serie mayor de 80.000 o menor? made in china o australia?', 'topAnswer': 'made in china , hace tiempo que no se fabrica en Austria. Aun asi , siguen siendo muy buenos.', 'asin': 'B00DCXZY1W', 'topAnswerUser': 'ignacio', 'topAnswerUserId': 'AHI3NRURYZDSDGYQRDNI374RPMVA', 'badges': [], 'votes': 0, 'id': 'Tx2THLMIMMTSDLF', 'answerCount': 6, 'questionOrder': 41, 'answerTime': '4 de febrero de 2016'}\n",
      "{'question': 'Es necesario un amplificador para disfrutar al 100% de estos auris? Me refiero yo los voy a usar cn el movil y portatil...Sonaran mal así? Gracias!!', 'topAnswer': 'Agradecen amplificación. Con el móvil quizás haya que subir el volumen bastante. Con el portátil no lo sé. Sonar mal nunca sonarán, pero igual el sonido resulta algo \"delgado\".', 'asin': 'B00DCXZY1W', 'topAnswerUser': 'MrBambolfiga', 'topAnswerUserId': 'AEV2APHYPQLST5FNCIRN6AVOD7SA', 'badges': [], 'votes': 0, 'id': 'Tx2V2TGBTFLZFCB', 'answerCount': 6, 'questionOrder': 42, 'answerTime': '1 de septiembre de 2016'}\n",
      "{'question': 'El cable esta integrado en el auricular  o se puede extraer y poner otro nuevo ?', 'topAnswer': 'Integrado', 'asin': 'B00DCXZY1W', 'topAnswerUser': 'Carlos Moreno', 'topAnswerUserId': 'AGQCS5CPDJ3EZMDKMRVLOF64UGQA', 'badges': [], 'votes': 0, 'id': 'Tx2W3SJA7O6TFJL', 'answerCount': 7, 'questionOrder': 43, 'answerTime': '13 de octubre de 2018'}\n",
      "{'question': 'Son apropiados para escuchar musica en un fiio x1 ii y en un fiio m7 ?', 'topAnswer': 'No los he probado con los fiio, pero sí te puedo adelantar que son exigentes con la amplificación, necesitan fuerza. Eso sí, son unos auriculares magníficos. Yo los amplifico con un SCHIIT LYR.', 'asin': 'B00DCXZY1W', 'topAnswerUser': 'Fernando D.', 'topAnswerUserId': 'AF2EKBAJOTSKQKZKFFBRUM3IDMYQ', 'badges': [], 'votes': 0, 'id': 'Tx2WAUF0NMZRKM5', 'answerCount': 2, 'questionOrder': 44, 'answerTime': '2 de septiembre de 2018'}\n",
      "{'question': 'Queria hacer 2 preguntas: Supongo que viene con la base para apoyarlo, ¿me equivoco?, y otra mas ¿Donde estan hechos?', 'topAnswer': 'El mio sí traía la base y está fabricado en Austria', 'asin': 'B00DCXZY1W', 'topAnswerUser': 'Villegas', 'topAnswerUserId': 'AF3CQKMWTNQBTSVXNR2Z5GZ2I7MA', 'badges': [], 'votes': 0, 'id': 'Tx2X2ZXF9TBH8KL', 'answerCount': 7, 'questionOrder': 45, 'answerTime': '26 de diciembre de 2016'}\n",
      "{'question': '¿a qué se debe la rebaja tan grande de 50€ que se ha hecho del producto?', 'topAnswer': 'Siendo unos auriculares de referencia es cierto que son muy equilibrados y analíticos. Los originales K702 se fabricaban en Australia, estos ya se fabrican en China desde hace tiempo. Eso unido al boom de los auriculares de ANC más el gusto general por auriculares más potentes en bajos ha provocado la bajada del precio.', 'asin': 'B00DCXZY1W', 'topAnswerUser': 'Emilio Rodríguez Valdajos', 'topAnswerUserId': 'AGR23I3M54JRSEMFO7KPLUMKJ6SQ', 'badges': [], 'votes': 0, 'id': 'Tx2X39M569LHOOG', 'answerCount': 0, 'questionOrder': 46, 'answerTime': '18 de noviembre de 2019'}\n",
      "{'question': 'entre estos y los sennheiser hd 599 cual recomendais?', 'topAnswer': 'Los akg sin lugar a dudas..', 'asin': 'B00DCXZY1W', 'topAnswerUser': 'Juan', 'topAnswerUserId': 'AHZI37FHKHEUKTMQIN2MJZ2BEHQQ', 'badges': [], 'votes': 0, 'id': 'Tx2XQ2GX41AON5D', 'answerCount': 5, 'questionOrder': 47, 'answerTime': '15 de octubre de 2017'}\n",
      "{'question': '¿Alguien podría recomendarme un buen amplificador para mover estos cascos a la perfección? Presupuesto máximo 200€. Gracias.', 'topAnswer': 'Mínimo un A5 de Fiio (si te refieres a un AMP portátil). Mueve bien hasta unos Beyerdinamics 880 dt de 600 omh. De ahí hacia arriba', 'asin': 'B00DCXZY1W', 'topAnswerUser': 'Emilio Rodríguez Valdajos', 'topAnswerUserId': 'AGR23I3M54JRSEMFO7KPLUMKJ6SQ', 'badges': [], 'votes': 0, 'id': 'Tx2YA9MZT5DC3G9', 'answerCount': 7, 'questionOrder': 48, 'answerTime': '11 de junio de 2018'}\n",
      "{'question': '¿Está hecho con cuero sintético?', 'topAnswer': 'pienso que es cuero de verdad, aparte lleva el símbolo de \"hecho con piel\" marcado en la diadema', 'asin': 'B00DCXZY1W', 'topAnswerUser': 'Alejandro', 'topAnswerUserId': 'AGDZYZ72GTR5ONKQZSOAGSQH44AA', 'badges': [], 'votes': 0, 'id': 'Tx2YQWELNW6AUFL', 'answerCount': 5, 'questionOrder': 49, 'answerTime': '1 de mayo de 2016'}\n",
      "{'question': 'Tapan completamente las orejas e insonorizan mucho?, son mejores que los sennheiser g4ame zero?, gracias', 'topAnswer': 'Si, tapan completamente las orejas. Son abiertos, lo que quiere decir que no te aíslan completamente y que si hay alguien a tu lado puede escuchar muy levemente lo que oyes. Yo los prefiero así para oir timbres etc. Si los quieres para jugar vas ha tener una sensación de espacio amplísima, con una calidad, separación y ubicación de los sonidos difícil de encontrar en otros cascos sea cual sea su precio. Por eso los usan muchos gamers aunque luego haga falta un pequeño adaptador si lo usas junto al micro. Los uso principalmente para escuchar música, pero por la noche también juego con ellos con la Xbox de mi hijo y no los cambiaría por nada. Calidad excelente. Calidad precio inigualable.', 'asin': 'B00DCXZY1W', 'topAnswerUser': 'Oscar', 'topAnswerUserId': 'AHGSYRXKEWR3VWXBLJFMACGU3EBQ', 'badges': [], 'votes': 2, 'id': 'Tx3XTSFYIVZ7O4', 'answerCount': 6, 'questionOrder': 0, 'answerTime': '2 de julio de 2015'}\n",
      "{'question': 'Me gustaría saber qué diferencia habría en sonido con unos Sennheiser equivalentes en precio (más brillantes o apagados etc.).', 'topAnswer': 'Hola, no puedo contestarle, pues no dispongo de unos Sennheiser para establecer comparaciones', 'asin': 'B00DCXZY1W', 'topAnswerUser': 'Pere47', 'topAnswerUserId': 'AHRD2SN7I77IH4YJP46AJ4WD2ZXQ', 'badges': [], 'votes': 1, 'id': 'Tx21VKI7NV0CVEU', 'answerCount': 4, 'questionOrder': 1, 'answerTime': '13 de diciembre de 2016'}\n",
      "{'question': 'La diadema ¿es de piel auténtica o de plástico?', 'topAnswer': 'Al menos la impresión es de piel auténtica.', 'asin': 'B00DCXZY1W', 'topAnswerUser': 'jorge m.', 'topAnswerUserId': 'AHDY7O5I6RXC4JMOEMEI25AU65IQ', 'badges': [], 'votes': 0, 'id': 'Tx12R1XU64AYANH', 'answerCount': 6, 'questionOrder': 2, 'answerTime': '19 de junio de 2018'}\n",
      "{'question': 'Estoy entre los 702 y los 701. Es cómoda esa clavija de los 702? Da sensación de que no se puede girar la cabeza sin que te peguen.', 'topAnswer': 'No, el AKG 702 es cómodo. Sin embargo, el Beyerdynamic DT 990 PRO es mejor en lamentación y comodidad de uso.', 'asin': 'B00DCXZY1W', 'topAnswerUser': 'Manfred Rein', 'topAnswerUserId': 'AHPY6OORR5CJKEM75A4LQ4RSSRVA', 'badges': [], 'votes': 0, 'id': 'Tx13A1ZCIRYXPCH', 'answerCount': 6, 'questionOrder': 3, 'answerTime': '24 de febrero de 2018'}\n",
      "{'question': '¿Viene precintada la caja con algún tipo de plástico o etiqueta para saber que son ciertamente nuevos y no devueltos por otro cliente?', 'topAnswer': 'La caja venía con un envoltorio plástico y la caja interior no se veía manipulada; todo estaba en su sitio: instrucciones, garantía, cables y los propios auriculares.No creo que procedieran de ninguna devolución ni mucho menos reacondicionado. Muy buena compra.', 'asin': 'B00DCXZY1W', 'topAnswerUser': 'francesc Orriols Martinez', 'topAnswerUserId': 'AEFHEM6CAOUJHV2DR554KHLD63IQ', 'badges': [], 'votes': 0, 'id': 'Tx141MCLST316L', 'answerCount': 3, 'questionOrder': 4, 'answerTime': '14 de noviembre de 2019'}\n",
      "{'question': 'saludos. Estoy entre estos y los beyerdynamic dt 990 pro. Cual recomiendan más para ejecución de guitarras en estudio?', 'topAnswer': 'Saludos. Creo que culaquiera de ellos te pueden valer para el cometido. Como siempre, depende de cómo te guste el sonido (incluso dentro del estudio). Según mi punto de vista, los 702 son algo más analíticos que los Beyerdinamics (yo poseo los 880 dt pro 600, también) lo que los hace más “adecuados” para música instrumental, clásica, ópera. Si lo que vas a grabar tiende más a rock, pop etc.. la calidez de los beyerdynamics creo que te iría mejor. Pero es sólo una opinión.', 'asin': 'B00DCXZY1W', 'topAnswerUser': 'Emilio Rodríguez Valdajos', 'topAnswerUserId': 'AGR23I3M54JRSEMFO7KPLUMKJ6SQ', 'badges': [], 'votes': 0, 'id': 'Tx183PCQ2BERU7F', 'answerCount': 2, 'questionOrder': 5, 'answerTime': '20 de octubre de 2019'}\n",
      "{'question': '¿Podrían decirme que se incluye en la caja? muchas gracias', 'topAnswer': 'Los auriculares.', 'asin': 'B00DCXZY1W', 'topAnswerUser': 'Jesús', 'topAnswerUserId': 'AEFV45RLUK4OFCULVPRXVYTGENVA', 'badges': [], 'votes': 0, 'id': 'Tx185O610P4YGO3', 'answerCount': 9, 'questionOrder': 6, 'answerTime': '23 de abril de 2020'}\n",
      "{'question': 'son fabricados en Austria ? ya que en los oficiales de la marca, en la parte inferior lateral exterior de los auriculares lo ponen en estos no.....', 'topAnswer': 'Los probé y los cambié, no me gustó su sonido artificial. Al final me quedé con los AKG702 y estoy encantado; se escucha tal y como se grabo: si la gragación fue buena, suenan bien; si es mala, suenan así. No tienen trampa ni cartón. Yo no lo dudadría, los AKG K702. No obstante si tu pregunta se refiere solo a que si el modelo AKG712PRo está fabricado en Asutria, la respuesta es que sí. Un saludo', 'asin': 'B00DCXZY1W', 'topAnswerUser': 'José R.', 'topAnswerUserId': 'AHURDAZGQM3C2HPAL6XWBUFBGDDQ', 'badges': [], 'votes': 0, 'id': 'Tx1871TSEJCCWMK', 'answerCount': 2, 'questionOrder': 7, 'answerTime': '27 de mayo de 2015'}\n",
      "{'question': 'En caso de que me decidiera por este modelo Akg K701 u otro de prestaciones similares, qué modelo de amplificador para homestudio me recomiendan?', 'topAnswer': 'Yo uso un amplificador de Hifime que lleva un chip DAC  9018 y amplificador de auriculares  Sabre. Se conecta al ordenador mediante USB y el sonido es claro y potente. En teoría da igual el sistema operativo pero es para conectar con usb', 'asin': 'B00DCXZY1W', 'topAnswerUser': 'amorells', 'topAnswerUserId': 'AHPP7VJNBTPXCVZIYQPWYYFD4YMQ', 'badges': [], 'votes': 0, 'id': 'Tx198OCIJR18QD4', 'answerCount': 3, 'questionOrder': 8, 'answerTime': '9 de noviembre de 2017'}\n",
      "{'question': '¿Cuando podrán estar disponibles?', 'topAnswer': '', 'asin': 'B00DCXZY1W', 'topAnswerUser': '', 'topAnswerUserId': '', 'badges': [], 'votes': 0, 'id': 'Tx1AHS9OVM9I547', 'answerCount': 0, 'questionOrder': 9, 'answerTime': ''}\n",
      "{'question': '¿Alguien podría recomendarme un buen amplificador para mover estos cascos a la perfección? Presupuesto maximo 200€.  Gracias.', 'topAnswer': 'FiiO A5. Los AKG K712 Pro necesitan unos 3.5V para sacarles todo el jugo. El A5 te da unos 5V. Yo lo uso junto al FiiO X5 III (que no llega a los 3V de salida) y la mejora es sustancial con los K712.', 'asin': 'B00DCXZY1W', 'topAnswerUser': 'JOAQUIN GARRIDO', 'topAnswerUserId': 'AHS7LBJMYX4TNZBDWUKT5E5ZT6HQ', 'badges': [], 'votes': 0, 'id': 'Tx22R2KLQ2I4ARR', 'answerCount': 4, 'questionOrder': 30, 'answerTime': '9 de junio de 2018'}\n",
      "{'question': 'Me podéis decir si son inalámbricos? Gracias.', 'topAnswer': 'No, traen cable. El sonido muy bien, y no te molestan en las orejas después de un buen rato de usarlos', 'asin': 'B00DCXZY1W', 'topAnswerUser': 'Julio César Santos Gestoso', 'topAnswerUserId': 'AETISZ7M7BH55ENR5KGOHMW2GV6Q', 'badges': [], 'votes': 0, 'id': 'Tx22WNF7NSNPMD9', 'answerCount': 7, 'questionOrder': 31, 'answerTime': '18 de febrero de 2018'}\n",
      "{'question': 'Tiene un largo camino que me envíe fotos del producto original lo hace ?', 'topAnswer': '', 'asin': 'B00DCXZY1W', 'topAnswerUser': '', 'topAnswerUserId': '', 'badges': [], 'votes': 0, 'id': 'Tx2413JEAPPOABH', 'answerCount': 0, 'questionOrder': 32, 'answerTime': ''}\n",
      "{'question': 'No es posible realizar envíos a Colombia ??', 'topAnswer': '', 'asin': 'B00DCXZY1W', 'topAnswerUser': '', 'topAnswerUserId': '', 'badges': [], 'votes': 0, 'id': 'Tx2495ADFFC2251', 'answerCount': 0, 'questionOrder': 33, 'answerTime': ''}\n",
      "{'question': 'Tengo un amplificador onkyo tx-8150. ya sé que sonarán, pero ¿podrá utilizarlos de forma adecuada o son demasiado exigentes para ese amplificador?', 'topAnswer': 'Si ok  l’onkyo tx 8150, per pilotare L’AKG 702. Ottima cuffia per la musica classica, leggera ecc.', 'asin': 'B00DCXZY1W', 'topAnswerUser': 'Andrea', 'topAnswerUserId': 'AGMVTFBOPRX4GRTRL75DFOYEUPBA', 'badges': [], 'votes': 0, 'id': 'Tx24BEFKMCJBXXO', 'answerCount': 2, 'questionOrder': 34, 'answerTime': '7 de noviembre de 2017'}\n",
      "{'question': 'Si los uso solamente para mi ordenador ¿necesitaría un amplificador?', 'topAnswer': 'Si, normalmente las tarjetas de sonido de pc no tienen suficiente potencia, salvo algunas especiales que están preparadas para ello, de oír lo oirás pero te quedaras hay justo justo.Saludos', 'asin': 'B00DCXZY1W', 'topAnswerUser': 'Juan', 'topAnswerUserId': 'AE5HGSWGPG36ICPD6FEDHOWF7CMQ', 'badges': [], 'votes': 0, 'id': 'Tx271OKO6OXTSBV', 'answerCount': 5, 'questionOrder': 35, 'answerTime': '14 de diciembre de 2016'}\n",
      "{'question': 'Hola, están fabricados en Austria cómo se puede ver en las fotos?', 'topAnswer': '', 'asin': 'B00DCXZY1W', 'topAnswerUser': '', 'topAnswerUserId': '', 'badges': [], 'votes': 0, 'id': 'Tx2AY570FTYDOT6', 'answerCount': 0, 'questionOrder': 36, 'answerTime': ''}\n",
      "{'question': 'La diadema ¿es de piel auténtica o de plástico?', 'topAnswer': 'Piel', 'asin': 'B00DCXZY1W', 'topAnswerUser': 'Fernando D.', 'topAnswerUserId': 'AF2EKBAJOTSKQKZKFFBRUM3IDMYQ', 'badges': [], 'votes': 0, 'id': 'Tx2HA3QWXPJJFSM', 'answerCount': 0, 'questionOrder': 37, 'answerTime': '2 de septiembre de 2018'}\n",
      "{'question': '¿Este producto volverá a ser vendido por Amazon?', 'topAnswer': 'es un clásico, lleva años a la venta, sin ser Amazon no puedo responder, pero yo esperaría', 'asin': 'B00DCXZY1W', 'topAnswerUser': 'Thischarmingman', 'topAnswerUserId': 'AGJUIQQWAS6OWVKG2HIOKREKLVIA', 'badges': [], 'votes': 0, 'id': 'Tx2JA6ESFZGTAO7', 'answerCount': 0, 'questionOrder': 38, 'answerTime': '25 de abril de 2020'}\n",
      "{'question': 'Se pueden conectar al televisor.? Necesito oir voces claras, por un problema de audicion con determinadas frecuencias de bajos', 'topAnswer': \"Sin ningún problema. Los auriculares vienen con un adaptador de 6'3 mm a la entrada normal de audio de 3'5 mm.\", 'asin': 'B00DCXZY1W', 'topAnswerUser': 'Miguel Romero', 'topAnswerUserId': 'AFPQRXR76QRVFJQBEVG4XJ4CEVQA', 'badges': [], 'votes': 0, 'id': 'Tx2N3FEQBJHGO0W', 'answerCount': 4, 'questionOrder': 39, 'answerTime': '26 de agosto de 2018'}\n",
      "{'question': '¿seran buenos para ver peliculas y para jugar?', 'topAnswer': 'Sí, para eso son excelentes! Con la música y las películas he notado que se aprecian más sonidos que con auriculares normales.', 'asin': 'B00DCXZY1W', 'topAnswerUser': 'Martin Rojas Caballero', 'topAnswerUserId': 'AHTBMZ5FUU75DZHPCBYBVN4HPRQQ', 'badges': [], 'votes': 0, 'id': 'TxDDUE512YKENM', 'answerCount': 5, 'questionOrder': 70, 'answerTime': '19 de septiembre de 2017'}\n",
      "{'question': '¿Me podéis recomendar un ampli para conectarlo a la tv? Mi tv tiene salida jack 3.5mm, salida óptica y hdmi arc. Gracias de antemano.', 'topAnswer': 'Yo creo este es muy completo te podría valer DENON AVR-X1500H este incluso lleva para escuchar emisoras por wifi, spotifi y muchas más cosas, pegale un vistazo.', 'asin': 'B00DCXZY1W', 'topAnswerUser': 'antonio e.', 'topAnswerUserId': 'AFZZBPHGZPPWUDAGG7FZIWCLGY7A', 'badges': [], 'votes': 0, 'id': 'TxGA1SDKSH73S2', 'answerCount': 0, 'questionOrder': 71, 'answerTime': '24 de septiembre de 2019'}\n",
      "{'question': 'merecen la pena estos auriculares? o comprar los 701? o recomendaris ahora mismo otro modelo?', 'topAnswer': 'A no ser que haya cambiado algo desde que los compré, son el mismo modelo con diferente terminación . Los 702 son más cómodos porque no llevan almohadillas en la banda. Saludos', 'asin': 'B00DCXZY1W', 'topAnswerUser': 'Fernando D.', 'topAnswerUserId': 'AF2EKBAJOTSKQKZKFFBRUM3IDMYQ', 'badges': [], 'votes': 0, 'id': 'TxHFXMI96VXLT9', 'answerCount': 5, 'questionOrder': 72, 'answerTime': '15 de octubre de 2017'}\n",
      "{'question': 'seguro que sigue siendo made in austria? es que ahora hay otra version de es made in Eslovaquia,es mucho mas barato que made in austria,', 'topAnswer': 'Es diseñado en Austria y fabricado en Eslovaquia, es la única opción disponible.', 'asin': 'B00DCXZY1W', 'topAnswerUser': 'Zococity S.L', 'topAnswerUserId': '', 'badges': ['Vendedor'], 'votes': 0, 'id': 'TxK265YX1XOYHN', 'answerCount': 0, 'questionOrder': 73, 'answerTime': '10 de octubre de 2015'}\n",
      "{'question': 'El jack de los auriculares es superior a 3.5? es de 6.3? necesito que sea adaptable a una tarjeta de sonido que tengo de focusrite scarlett', 'topAnswer': 'Tiene las dos posibilidades. En cable el de 3.5 y lleva un adaptador a 6.3...realmente bueno. Lo aconsejo como auriculares abiertos para mezcla... No para grabación... Acoplarias el sonido por micrófono. Lo digo por si no lo sabes.', 'asin': 'B00DCXZY1W', 'topAnswerUser': 'PASQUIR', 'topAnswerUserId': 'AHYLHKPU4OXBBCFGX3V2ZPDBM5YQ', 'badges': [], 'votes': 0, 'id': 'TxK3FWD35FSIOD', 'answerCount': 4, 'questionOrder': 74, 'answerTime': '13 de abril de 2019'}\n",
      "{'question': 'Que tal irian estos cascos para tocar piano digital,concretamente el kawai ca78?', 'topAnswer': 'En cuanto a calidad de sonido y comodidad diría que vas a ir sobrado. Ten en cuenta que es un auricular de estudio para tareas de mezcla y masterizacion. Así que vas a poder estar con ellos puestos durante largas jornadas sin problemas y la calidad del sonido va a ser muy buena. \\nPor contra, si lo que quieres son unos auriculares que t aislen y a su vez nadie escuche lo q estas haciendo o por lo menos que sea apenas imperceptible, estos no son tus auriculares ya que son abiertos y sale sonido. No es excesivo y depende del volumen al que machaques tus oídos pero salen más que unos cerrados que están hechos especialmente para aislarte y aislar.', 'asin': 'B00DCXZY1W', 'topAnswerUser': 'Cliente Amazon', 'topAnswerUserId': 'AE64ESUKHY6AEGHLOIVAZVFRKVXA', 'badges': [], 'votes': 0, 'id': 'TxM4RKPNABSB85', 'answerCount': 3, 'questionOrder': 75, 'answerTime': '30 de noviembre de 2018'}\n",
      "{'question': '¿Son cómodos para usarlos con gafas durante bastante tiempo?', 'topAnswer': 'Yo llego gafas y no me molestan, pero depende mcho del tipo de gafas, los uso para la mezcla y no más de 2-3 horas, ya que voy combinando varios modellos de akg para ir comparando junto a la escucha de monitores.', 'asin': 'B00DCXZY1W', 'topAnswerUser': 'Josep lluis Lozano', 'topAnswerUserId': 'AHCJ734AR5AFSX2YYVCSH56OC2VA', 'badges': [], 'votes': 0, 'id': 'TxMU4DC7DDRB34', 'answerCount': 2, 'questionOrder': 76, 'answerTime': '27 de agosto de 2016'}\n",
      "{'question': 'Cuánto pesan en gramos', 'topAnswer': '362gramos  con cable. 300 gramos son cable.', 'asin': 'B00DCXZY1W', 'topAnswerUser': 'Xavier Dealbert', 'topAnswerUserId': 'AHMJ3R3QNJHFYAN46X5DTYOSIN6A', 'badges': [], 'votes': 0, 'id': 'TxNANP30DOV00D', 'answerCount': 0, 'questionOrder': 77, 'answerTime': '26 de febrero de 2020'}\n",
      "{'question': 'Que diferencia hay para gastarse 80€ más por estos que por los 701?', 'topAnswer': 'Pues con los ojos cerrados\\nPrimero por tener cable extraible,mejores Pads de gel y mejores graves..\\nMejores acabados\\nNi lo dudes\\n\\nSaludod\\n\\nSisco', 'asin': 'B00DCXZY1W', 'topAnswerUser': 'stersa', 'topAnswerUserId': 'AFZ5HCCZVON3IPXJQNTGNTJYHOPQ', 'badges': [], 'votes': 0, 'id': 'TxPY1WPIJLQ10G', 'answerCount': 4, 'questionOrder': 78, 'answerTime': '4 de marzo de 2018'}\n",
      "{'question': 'Para cine y juegos qué tal?', 'topAnswer': 'Respecto al sonido seguro que bien porque tienen ese cuerpo que las pelis y juegos necesitan. Pero no los he probado en cuanto a posicionamineto. En musica separan mucho hacia los lados.  Lo que debes tener en cuenta es que son abiertos y suenan por fuera bastante sobre todo si les das caña y podrian nointeresarte si vas a tener alguien cerca, porque le vas a molestar.', 'asin': 'B00DCXZY1W', 'topAnswerUser': 'Francisco Jose', 'topAnswerUserId': 'AFQQMTY2WAGTWFNHFHCW3H6XHRSA', 'badges': [], 'votes': 0, 'id': 'TxQ770GRB62O8M', 'answerCount': 4, 'questionOrder': 79, 'answerTime': '6 de enero de 2017'}\n",
      "{'question': 'En la foto salen dos modelos diferentes de akg k 701, uno con la diadema lisa y otro con pequeñas formas, ¿cuál de ellos es?', 'topAnswer': 'El que yo recibí es el liso', 'asin': 'B00DCXZY1W', 'topAnswerUser': 'Jgd', 'topAnswerUserId': 'AG2W2ROV5STH542X5GNAT7VQSGDQ', 'badges': [], 'votes': 0, 'id': 'Tx34XVO9O5BDE41', 'answerCount': 2, 'questionOrder': 50, 'answerTime': '4 de mayo de 2016'}\n",
      "{'question': 'Funcionaran bien estos cascos si mi tarjeta de sonido tiene una impedancia de 10 ohms y estos cascos tienen 62 ohms?', 'topAnswer': 'Estos auriculares necesitan mucha \"chicha\" para funcionar a pleno rendimiento.Con tu tarjeta de sonido probablemente sonarán con poco volumen y sin exprimir todas sus cualidades. Necesitarías un amplificador de auriculares.Estos son de los mejores auriculares que he probado, pero conectados a un amplificador.', 'asin': 'B00DCXZY1W', 'topAnswerUser': 'Richard', 'topAnswerUserId': 'AHCG5SVC4GTMAO6B4Y3SXDIZEOXQ', 'badges': [], 'votes': 0, 'id': 'Tx37EFFUXPKAD29', 'answerCount': 3, 'questionOrder': 51, 'answerTime': '22 de enero de 2017'}\n",
      "{'question': 'Hola, creo que el mismo modelo se hace unos en Austria y otros en China, los que aquí se venden son chinos o austriacos?', 'topAnswer': 'No lo sé, en los auriculares no pone nada al respecto, si bien en los documentos hay una hoja con algunos ideogramas acerca de la composición de los auriculares.', 'asin': 'B00DCXZY1W', 'topAnswerUser': 'Xavier Noria', 'topAnswerUserId': 'AHYHKOWLUXKFDD5H6U7EYVDTWUJA', 'badges': [], 'votes': 0, 'id': 'Tx38MSHH8OGH3HK', 'answerCount': 10, 'questionOrder': 52, 'answerTime': '23 de enero de 2017'}\n",
      "{'question': 'Funciona bien con un fiio m11 o necesita amplificador adicional?', 'topAnswer': 'Estos auriculares son muy buenos, pero como todos los de calidad son un poco sordos, yo tengo un dac de smsl y lo mueve sin problemas tan solo al 45 de un 100, pero un teléfono normal o un equipo normal te quedarás a medias', 'asin': 'B00DCXZY1W', 'topAnswerUser': 'Juan', 'topAnswerUserId': 'AE5HGSWGPG36ICPD6FEDHOWF7CMQ', 'badges': [], 'votes': 0, 'id': 'Tx3CMSESJ2S3V77', 'answerCount': 3, 'questionOrder': 53, 'answerTime': '15 de mayo de 2020'}\n",
      "{'question': 'Que tal son para musica rock?', 'topAnswer': 'Normalmente se aconsejan para música clásica por su neutralidad. Son magníficos pero no colorean nada en bajos, y eso no suele gustar a los amantes de la música rock.', 'asin': 'B00DCXZY1W', 'topAnswerUser': 'Fernando D.', 'topAnswerUserId': 'AF2EKBAJOTSKQKZKFFBRUM3IDMYQ', 'badges': [], 'votes': 0, 'id': 'Tx3DC03AL2OSKPR', 'answerCount': 5, 'questionOrder': 54, 'answerTime': '1 de noviembre de 2016'}\n",
      "{'question': 'Con un reproductor como fiio x3 hace falta ampli? Y en ese caso, vale un ampli normal o tiene que ser de auriculares?', 'topAnswer': 'En mi opinión el X3 puede moverlos, pero es verdad que son \"hambrientos\" y cuanto más músculo tenga el ampli mejor. Aparte de esto, yo resaltaría un punto negativo para el uso con estos dispositivos y es que el tamaño del conector es jack 6 mm, y el adaptadro que trae es de los rígidos que no recomiendo para nada con un portatil como el fiio, acaba rompiendo el reproductor por la gran palanca que hacen. Mira otros cascos que lleven nativo el jack 3mm o hazte con un conversor de jack 6mm a 3mm que lleve un poco de cable para aligerar la tensión sobre el reproductor.', 'asin': 'B00DCXZY1W', 'topAnswerUser': 'Francisco Jose', 'topAnswerUserId': 'AFQQMTY2WAGTWFNHFHCW3H6XHRSA', 'badges': [], 'votes': 0, 'id': 'Tx3DKQUN4PRT31J', 'answerCount': 9, 'questionOrder': 55, 'answerTime': '10 de diciembre de 2015'}\n",
      "{'question': 'Sonarian bien en un pc msi? o me hace falta amplificador? serviría una tarjeta de sonido externa como amplificador?', 'topAnswer': 'Hola en un pc suenan bien pero nesecitaras para escucharlos genial un amplificador yo lo tengo en mi pc un fiio Q1 y te hace de DAC te los recomiendo suenan de maravilla', 'asin': 'B00DCXZY1W', 'topAnswerUser': 'Antonio Jesús morían o berlang…', 'topAnswerUserId': 'AGKSAFRJJFD3C4P2TAHOFE7V63CQ', 'badges': [], 'votes': 0, 'id': 'Tx3F2EGI7KGLR45', 'answerCount': 3, 'questionOrder': 56, 'answerTime': '20 de diciembre de 2019'}\n",
      "{'question': 'Dan mucho calor?', 'topAnswer': 'No excesivamente, porque son muy ligeros, ademas son de extructura abierta,  por lo que no necesitan presionar sobre la cabeza.\\nLa validad del audio es muy buena y fidedigna.', 'asin': 'B00DCXZY1W', 'topAnswerUser': 'Jose Manuel Garcia Garcia', 'topAnswerUserId': 'AEUAJSQZ6JHS6QQD5XS54MB5IRFQ', 'badges': [], 'votes': 0, 'id': 'Tx3GB07OBVEWLGB', 'answerCount': 6, 'questionOrder': 57, 'answerTime': '7 de octubre de 2019'}\n",
      "{'question': '¿Los auriculres son Made in China como dice un cliente o realmente son Made in Austria como lo que es de calidad en AKG?', 'topAnswer': 'Son Made in China , no se cuanto costarian si los fabricaban Austriacos . En el mundo de la iconomia global no me preucuparia de esto . Espero haberte ayudado . Un saludo', 'asin': 'B00DCXZY1W', 'topAnswerUser': 'Deyan Velikov', 'topAnswerUserId': 'AF6HZVYF3OP3BIED6YHVQPWESCHQ', 'badges': [], 'votes': 0, 'id': 'Tx3GDQ1NNX6WFYN', 'answerCount': 16, 'questionOrder': 58, 'answerTime': '7 de marzo de 2015'}\n",
      "{'question': 'Para mezclar y masterizar con un macbook pro hace falta comprar también un amplificador? gracias', 'topAnswer': 'Si, vas a necesitar un amplificador bastante potente. Sin ello te faltara volumen.', 'asin': 'B00DCXZY1W', 'topAnswerUser': 'edward jenner', 'topAnswerUserId': 'AHHNW2MNC3V77OHBONBVCMB6FPYQ', 'badges': [], 'votes': 0, 'id': 'Tx3L5UGWFVIPDXS', 'answerCount': 0, 'questionOrder': 59, 'answerTime': '6 de noviembre de 2018'}\n",
      "{'question': '¿rodean completamente la oreja?', 'topAnswer': 'Si, son cómodos y la rodean', 'asin': 'B00DCXZY1W', 'topAnswerUser': 'angel fabregas', 'topAnswerUserId': 'AHDZDPXD7DXSYQG4RTJL64PK4BIA', 'badges': [], 'votes': 0, 'id': 'Tx1B9AOLJOYWTV1', 'answerCount': 5, 'questionOrder': 10, 'answerTime': '18 de noviembre de 2017'}\n",
      "{'question': '¿Alguíen sabe como hacer para que aprieten menos en la cabeza?', 'topAnswer': 'Hola,\\n\\nSe puede arreglar en los lados de los auriculares\\n\\nUn saludo', 'asin': 'B00DCXZY1W', 'topAnswerUser': 'SonoVente', 'topAnswerUserId': '', 'badges': ['Vendedor'], 'votes': 0, 'id': 'Tx1DHKWTDVQLOTQ', 'answerCount': 0, 'questionOrder': 11, 'answerTime': '27 de noviembre de 2017'}\n",
      "{'question': '¿con un reproductor hi-res tipo fiio m6/m7 les sacaría el máximo partido a los akg k712 pro? ¿o necesitaría un buen dac+ampli de escritorio? gracias!', 'topAnswer': 'Con un dac ampli va mucho mejor pero con el m6 va bien yo los escucho p', 'asin': 'B00DCXZY1W', 'topAnswerUser': 'Antonio Jesús morían o berlang…', 'topAnswerUserId': 'AGKSAFRJJFD3C4P2TAHOFE7V63CQ', 'badges': [], 'votes': 0, 'id': 'Tx1F9S3MHV2Y3U2', 'answerCount': 5, 'questionOrder': 12, 'answerTime': '15 de octubre de 2020'}\n",
      "{'question': 'Hola, me podéis decir si son inalámbricos? Gracias.', 'topAnswer': 'no', 'asin': 'B00DCXZY1W', 'topAnswerUser': 'juan…', 'topAnswerUserId': 'AGM3XUAED7HPSYPOTAJRBVN2Q7ZA', 'badges': [], 'votes': 0, 'id': 'Tx1FVDWGXGBPY9U', 'answerCount': 6, 'questionOrder': 13, 'answerTime': '18 de febrero de 2018'}\n",
      "{'question': 'Estos Auriculares son para Studio o para Dj ?', 'topAnswer': 'No son ni de studio ni de DJ, son auriculares abiertos.\\nSon unos auriculares equilibrados, con una cierta orientación a la música clásica con muy buenos agudos y que mejoran con una buena ampliación.\\nSon una muy buena opción para iniciarse en el mundo audiófilo.', 'asin': 'B00DCXZY1W', 'topAnswerUser': 'Carlos Trujillo', 'topAnswerUserId': 'AEEH7LI42YM27TERGS5B2PZFKXPA', 'badges': [], 'votes': 0, 'id': 'Tx1G9ZG1Q1CBR9U', 'answerCount': 4, 'questionOrder': 14, 'answerTime': '29 de junio de 2020'}\n",
      "{'question': 'Estaba pensando en comprar este modelo o el sennheiser hd599 cual recomiendan?', 'topAnswer': 'Yo tengo un sennheiser ya antiguo y los dos suenan muy bien , estos akg para alta fidelidad me han gustado mucho.', 'asin': 'B00DCXZY1W', 'topAnswerUser': 'goyo', 'topAnswerUserId': 'AHY7KZMUVYBB3UZTHKBDZEJXY6OQ', 'badges': [], 'votes': 0, 'id': 'Tx1I4GQ5V280SP3', 'answerCount': 4, 'questionOrder': 15, 'answerTime': '24 de octubre de 2017'}\n",
      "{'question': 'me gustaría que me envíe las fotos de la akg k - 701 a partir del 2 mano : 19 desde 117.09 euros .... tuvieron que?', 'topAnswer': '', 'asin': 'B00DCXZY1W', 'topAnswerUser': '', 'topAnswerUserId': '', 'badges': [], 'votes': 0, 'id': 'Tx1I4XFEP5WA2JY', 'answerCount': 0, 'questionOrder': 16, 'answerTime': ''}\n",
      "{'question': 'los mios no tienen casi volumen los he puesto con la apollo twin y suenan super bajo es normal ese volumen?', 'topAnswer': 'Hola, no te puedo responder bien porque no se lo que es la Apolo Win, pero te puedo asegurar que no es por culpa de los auriculares ,es porque tiene muy poca potencia de salida lo que sea esa Apolo.Estos auriculares son de mucha calidad y requieren ser conectados a un buen amplificador ya sea un previo de etapa un amplificador integrado o un ampli de auriculares ,para sacarles todo el jugo a estos auriculares. Espero haber respondido bien a tu pregunta. saludos', 'asin': 'B00DCXZY1W', 'topAnswerUser': 'Antonio A.', 'topAnswerUserId': 'AFMX5RP3F6ZCFQMDEHRZJSZVJKLA', 'badges': [], 'votes': 0, 'id': 'Tx1JG9MNA67RACF', 'answerCount': 3, 'questionOrder': 17, 'answerTime': '23 de enero de 2018'}\n",
      "{'question': 'Alguien los ha probado en un iPhone o iPad?', 'topAnswer': 'Por servir sirven, pero estos auriculares sin un amplificador que los mueva no tienen mucho sentido. Para iPhone o iPad hay auriculares más baratos y pequeños que dan un fenomenal sonido.', 'asin': 'B00DCXZY1W', 'topAnswerUser': 'Cesar', 'topAnswerUserId': 'AH4W75DWBY4OU73FJZWYV7BGH24A', 'badges': [], 'votes': 0, 'id': 'Tx1NTDF2O99AS1C', 'answerCount': 4, 'questionOrder': 18, 'answerTime': '30 de enero de 2017'}\n",
      "{'question': 'Con un macbook pro 15 (2019) necesitan amplificador?', 'topAnswer': 'Con un MacBook no lo sé, pero con un pc normal si.', 'asin': 'B00DCXZY1W', 'topAnswerUser': 'Al', 'topAnswerUserId': 'AENOL2VKKYIFD5BTRSHB6PENAFOA', 'badges': [], 'votes': 0, 'id': 'Tx1NYWZN9R1JMI5', 'answerCount': 3, 'questionOrder': 19, 'answerTime': '7 de agosto de 2019'}\n",
      "{'question': '¿Incluye el cable rizado y la bolsa de transporte?', 'topAnswer': 'SI,TODO', 'asin': 'B00DCXZY1W', 'topAnswerUser': 'stersa', 'topAnswerUserId': 'AFZ5HCCZVON3IPXJQNTGNTJYHOPQ', 'badges': [], 'votes': 0, 'id': 'Tx3LENGJPP0F2Q6', 'answerCount': 8, 'questionOrder': 60, 'answerTime': '21 de septiembre de 2016'}\n",
      "{'question': '¿para pop y rock con amplificador luxman que es mejor el k702 o el k712pro?', 'topAnswer': 'Por lo que se si le haces el mod son iguales', 'asin': 'B00DCXZY1W', 'topAnswerUser': 'PABLO BONAFE', 'topAnswerUserId': 'AEUGVSVW7PODOOQQDPT3OD75GSZQ', 'badges': [], 'votes': 0, 'id': 'Tx3LJ2CHCJTTMWV', 'answerCount': 0, 'questionOrder': 61, 'answerTime': '15 de septiembre de 2018'}\n",
      "{'question': '¿en la caja pone made in china o made in austria?', 'topAnswer': 'Desde hace algún tiempo AKG trasladó su producción a China, como lo han hecho muchas empresas europeas y americanas. La calidad sigue siendo la misma. Estos auriculares son del todo recomendables, aunque estén fabricados en China.', 'asin': 'B00DCXZY1W', 'topAnswerUser': 'francesc Orriols Martinez', 'topAnswerUserId': 'AEFHEM6CAOUJHV2DR554KHLD63IQ', 'badges': [], 'votes': 0, 'id': 'Tx3S0O89BMELZQ6', 'answerCount': 6, 'questionOrder': 62, 'answerTime': '25 de noviembre de 2019'}\n",
      "{'question': '¿Un Fijo M11 podrá con ellos o necesito amplificador adicional?', 'topAnswer': 'Estos auriculares necesitan un mínimo aproximado de 3.5V de salida para rendir al 100%. El Fiio M11 da 2.5V por la salida de 3.5mm (que es la que vas a utilizar). Por tanto no le vas a sacar todo el partido. Yo tuve el FiiO X5 III, que tenía la misma amplificación que el M11, y aunque se escuchaba bien se quedaba corto. Le añadí el amplificador FiiO A5 (5V de salida) y fue como la noche y el día.', 'asin': 'B00DCXZY1W', 'topAnswerUser': 'JOAQUIN GARRIDO', 'topAnswerUserId': 'AHS7LBJMYX4TNZBDWUKT5E5ZT6HQ', 'badges': [], 'votes': 0, 'id': 'Tx3U8GL3Y6CYZO7', 'answerCount': 3, 'questionOrder': 63, 'answerTime': '24 de septiembre de 2019'}\n",
      "{'question': 'Cuánto pesan en gramos', 'topAnswer': '362 gramos con cable y 300 sin cable.', 'asin': 'B00DCXZY1W', 'topAnswerUser': 'Xavier Dealbert', 'topAnswerUserId': 'AHMJ3R3QNJHFYAN46X5DTYOSIN6A', 'badges': [], 'votes': 0, 'id': 'Tx48OAEYAWXFS2', 'answerCount': 6, 'questionOrder': 64, 'answerTime': '26 de febrero de 2020'}\n",
      "{'question': 'Se pueden usar con el movil o necesitan amplificación?', 'topAnswer': 'Para sacarle el máximo rendimiento necesitas un amplificador. Saludos!', 'asin': 'B00DCXZY1W', 'topAnswerUser': 'Headphoniaks', 'topAnswerUserId': '', 'badges': ['Vendedor'], 'votes': 0, 'id': 'Tx4TI5MCX9YKOF', 'answerCount': 0, 'questionOrder': 65, 'answerTime': '27 de mayo de 2017'}\n",
      "{'question': 'Especifica lo siguiente: Potencia eléctrica - 40 vatios. ¿Por eso necesitan un amplificador de auriculares para funciones en portátil?', 'topAnswer': 'Creo que confundimos un poco los conceptos. Para usar los auriculares con un dispositivo portátil y ver si \"tira\", lo que tienes que mirar es la impedancia, en este caso es de 62 Ohmios. En la jerga y a este respecto hay auriculares \"duros\", \"medios\" y \"blandos\". Cuantos más Ohmios de impedancia más \"duros\" de mover. En este caso concreto, 62 Ohmios es una impedancia media y aquí lo que hay que ver es con qué dispositivo portátil vas a usarlo. En mi caso, yo lo uso con un Fiio X3 2 y lo mueve sin ningún problema, las suites para Cello de Bach al 90% de volumen (pongo este ejemplo porque es un solo instrumento) se escuchan de maravilla y en otro tipo de música no aguantas el 100%. Como conclusión te diría que debe haber un equilibrio entre el reproductor y los cascos, con el Fiio y similares no tendrás ningún problema. Ya que te gastas una pasta en cascos ponle un dispositivo portátil a la altura, si lo vas a usar con el móvil, no será capaz de moverlo. Cualquier hi-fi premium te valdrá. Saludos.', 'asin': 'B00DCXZY1W', 'topAnswerUser': 'Miguel Di Paolo', 'topAnswerUserId': 'AECD455YSR2LRA5R5LZTRPHBAJQQ', 'badges': [], 'votes': 0, 'id': 'Tx6B1YT9KZD8TA', 'answerCount': 6, 'questionOrder': 66, 'answerTime': '30 de julio de 2017'}\n",
      "{'question': 'Tiene un largo camino que me envíe fotos del producto original lo hace ? De 2ª mano...', 'topAnswer': '', 'asin': 'B00DCXZY1W', 'topAnswerUser': '', 'topAnswerUserId': '', 'badges': [], 'votes': 0, 'id': 'Tx6HR8IZWZ8HA7', 'answerCount': 0, 'questionOrder': 67, 'answerTime': ''}\n",
      "{'question': '¿Qué tipo de cuero es el que usan los auriculares en la parte superior? ¿es sintético o de animal?', 'topAnswer': 'Se diría que sintético. Pero es tremendamente resistente y no se deforma (y los llevo usando varios meses de forma continua).', 'asin': 'B00DCXZY1W', 'topAnswerUser': 'Cliente Amazon', 'topAnswerUserId': 'AEBWOEHAIVY2XVPMWHYG2NWPU6BQ', 'badges': [], 'votes': 0, 'id': 'TxAOGEPVDNJSS9', 'answerCount': 3, 'questionOrder': 68, 'answerTime': '21 de enero de 2020'}\n",
      "{'question': 'Hola. ¿ Alguién sabe la diferencia en especificaciones entre este modelo y el 701q ( Quincy Jones )', 'topAnswer': 'El modelo de quincy tiene ligeramente mas graves, es algo muy poco notable. Solo eso.', 'asin': 'B00DCXZY1W', 'topAnswerUser': 'Música Infantil TV', 'topAnswerUserId': 'AEIRDGTMHWZ4RIR4GIQ7OCS7QPOQ', 'badges': [], 'votes': 0, 'id': 'TxAP7XUAYLYA6P', 'answerCount': 3, 'questionOrder': 69, 'answerTime': '9 de marzo de 2015'}\n",
      "{'question': 'Tengo un amplificador luxman y escucho pop y rock. El k702 dejaria oir bien los bajos?', 'topAnswer': 'No soy un experto ,ni tengo referencias para comparar, pero a mi me sorprendieron esperaba menos bajos lo encuentro suficientes, siempre le puedes hacer el mod bass si necesitas mas.', 'asin': 'B00DCXZY1W', 'topAnswerUser': 'PABLO BONAFE', 'topAnswerUserId': 'AEUGVSVW7PODOOQQDPT3OD75GSZQ', 'badges': [], 'votes': 0, 'id': 'Tx1OQRNUBQKV5KY', 'answerCount': 4, 'questionOrder': 20, 'answerTime': '15 de septiembre de 2018'}\n",
      "{'question': 'Sé que existen dos versiones, la fabricada en Austria y la fabricada en China, me gustaria saber cuál es la que comercializais vosotros, gracias.', 'topAnswer': 'Pongámonos en situación. AKG efectivamente es una empresa de origen austriaco, pero fue adquirida por el grupo estadounidense Harman en 1995. Posteriormente, en 2016, Samsung adquirió el grupo Harman.Por lo que respecta a la fabricación de auriculares por parte de AKG, los modelos clásicos de la compañía fueron producidos en Austria. Sin embargo, a partir de modelos más recientes, como ocurre por ejemplo con el K702, parece que es posible encontrar artículos fabricados en Austria y otros cuya producción ya fue trasladada a China.En el caso concreto del K612Pro, supongo que por tratarse de un modelo \"relativamente\" reciente, la producción creo que está totalmente realizada en China. Por lo menos, en el caso particular de los que yo poseo, aparece una indicación clarísima de que está fabricado allí.En cualquier caso y entrando en lo que de verdad importa, la calidad de construcción es muy alta y su rendimiento, por supuesto con la amplificación adecuada, es extraordinario.', 'asin': 'B00DCXZY1W', 'topAnswerUser': 'Sergio F.', 'topAnswerUserId': 'AED4FPEWXPO3P5FCDLWWXL5X6CXQ', 'badges': [], 'votes': 0, 'id': 'Tx1SJFQRNG2UZY8', 'answerCount': 0, 'questionOrder': 21, 'answerTime': '28 de julio de 2017'}\n",
      "{'question': 'quiero unos auriculares de buena calidad para escuchar musica ver pelicuals  e incluso escuchar el sonido de videojuegos en pc, me recomendais estos?', 'topAnswer': 'Yo estoy contento con ellos, no soy muy crítico pero su sonido me parece excelente.', 'asin': 'B00DCXZY1W', 'topAnswerUser': 'FranXX', 'topAnswerUserId': 'AEA63GFPH4FZ735HVO56JQ2CZ2IQ', 'badges': [], 'votes': 0, 'id': 'Tx1TDIGBL7LNAB1', 'answerCount': 6, 'questionOrder': 22, 'answerTime': '14 de octubre de 2017'}\n",
      "{'question': 'Para escuchar música clásica, ¿es mejor unos como éstos o escojo unos cerrados?', 'topAnswer': 'En mi opinión,unos abiertos como éstos, pues percibes la música de manera más auténtica sin la resonancia que puede producir unos auriculares cerrados. Disfruto mucho escuchar música clásica, B.S.O ... Con mis nuevos auriculares AKG K- 701.', 'asin': 'B00DCXZY1W', 'topAnswerUser': 'Pedro', 'topAnswerUserId': 'AFRXGS7VHMGTGAWNI5IOVRM7KS2Q', 'badges': [], 'votes': 0, 'id': 'Tx1UEHTNGHXI3O5', 'answerCount': 6, 'questionOrder': 23, 'answerTime': '17 de febrero de 2017'}\n",
      "{'question': 'Que tipo de jack lleva el auricular?? 3.5 o el grande 6.5?????', 'topAnswer': 'El grande y su correspondiente adaptador para el pequeño. No es un auricular para portatiles.', 'asin': 'B00DCXZY1W', 'topAnswerUser': 'Carlos Moreno', 'topAnswerUserId': 'AGQCS5CPDJ3EZMDKMRVLOF64UGQA', 'badges': [], 'votes': 0, 'id': 'Tx1UPRAN4TFXBKU', 'answerCount': 4, 'questionOrder': 24, 'answerTime': '31 de octubre de 2017'}\n",
      "{'question': 'Tienen estos k701 una referencia plana pero con graves presentes? podría moverlos bien con mi tarjeta focusrite saffire pro 40 más mixer?', 'topAnswer': 'No creo, para que suene lo mas plano necesitas un buen ampli', 'asin': 'B00DCXZY1W', 'topAnswerUser': 'Marc', 'topAnswerUserId': 'AEWOWBWZPSUPQMAZOJFG7KX4M3JQ', 'badges': [], 'votes': 0, 'id': 'Tx1WGLX0CXV303B', 'answerCount': 4, 'questionOrder': 25, 'answerTime': '9 de noviembre de 2017'}\n",
      "{'question': 'Algunos manera de tener envíame fotos originales segunda mano Desde producto ?', 'topAnswer': 'No puedo. Ya los devolví.', 'asin': 'B00DCXZY1W', 'topAnswerUser': 'MrBambolfiga', 'topAnswerUserId': 'AEV2APHYPQLST5FNCIRN6AVOD7SA', 'badges': [], 'votes': 0, 'id': 'Tx1WU1Z9SDCRP2E', 'answerCount': 2, 'questionOrder': 26, 'answerTime': '12 de agosto de 2016'}\n",
      "{'question': 'La caja de los auriculares viene precintada? Los mios llegaron sin plastico...', 'topAnswer': 'La caja exterior de cartón no viene precintada con plástico, al menos en mi caso.', 'asin': 'B00DCXZY1W', 'topAnswerUser': 'Cliente Amazon', 'topAnswerUserId': 'AHYOXYVJPMAXEMHAA6BAAL52I4MA', 'badges': [], 'votes': 0, 'id': 'Tx1WU3U9FEOO3W1', 'answerCount': 3, 'questionOrder': 27, 'answerTime': '28 de febrero de 2018'}\n",
      "{'question': 'estos o los sennheiser hd 25?', 'topAnswer': 'Estos sin dudarlo para música clásica. Hazles el mod del bas y dale un rodaje de al menos 250 horas.', 'asin': 'B00DCXZY1W', 'topAnswerUser': 'vicenç', 'topAnswerUserId': 'AFLJM3FKVXWBJNJC6WQ7JXCYWWLA', 'badges': [], 'votes': 0, 'id': 'Tx1Y5CGU1PHU71V', 'answerCount': 3, 'questionOrder': 28, 'answerTime': '17 de julio de 2017'}\n",
      "{'question': '¿Viene en su paquete original, de AKG?', 'topAnswer': 'A mi me llegó en su caja original.', 'asin': 'B00DCXZY1W', 'topAnswerUser': 'Vicente', 'topAnswerUserId': 'AEJOFOJFWR26BXLL3XNUBOZNFVBQ', 'badges': [], 'votes': 0, 'id': 'Tx1YKZDQR18KJ3C', 'answerCount': 7, 'questionOrder': 29, 'answerTime': '18 de enero de 2016'}\n"
     ]
    }
   ],
   "source": [
    "for review in es_questions:\n",
    "    if review['asin'] == asin:\n",
    "        print(review)"
   ],
   "metadata": {
    "collapsed": false,
    "ExecuteTime": {
     "end_time": "2025-02-19T16:15:53.540389Z",
     "start_time": "2025-02-19T16:15:53.491022Z"
    }
   },
   "id": "f09d858b3ef4178c"
  },
  {
   "cell_type": "code",
   "execution_count": null,
   "outputs": [],
   "source": [],
   "metadata": {
    "collapsed": false
   },
   "id": "b4af526ce976620"
  }
 ],
 "metadata": {
  "kernelspec": {
   "display_name": "Python 3",
   "language": "python",
   "name": "python3"
  },
  "language_info": {
   "codemirror_mode": {
    "name": "ipython",
    "version": 2
   },
   "file_extension": ".py",
   "mimetype": "text/x-python",
   "name": "python",
   "nbconvert_exporter": "python",
   "pygments_lexer": "ipython2",
   "version": "2.7.6"
  }
 },
 "nbformat": 4,
 "nbformat_minor": 5
}
