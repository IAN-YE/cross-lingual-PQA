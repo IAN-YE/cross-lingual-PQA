{
 "cells": [
  {
   "cell_type": "code",
   "execution_count": 7,
   "id": "initial_id",
   "metadata": {
    "collapsed": true,
    "ExecuteTime": {
     "end_time": "2025-03-05T11:41:19.578456Z",
     "start_time": "2025-03-05T11:41:19.575610Z"
    }
   },
   "outputs": [],
   "source": [
    "import pandas as pd\n",
    "\n",
    "def read_raw_data(file):\n",
    "    df = pd.read_json(file, lines=True, compression='gzip', encoding='utf-8')\n",
    "    return df"
   ]
  },
  {
   "cell_type": "code",
   "execution_count": 8,
   "outputs": [],
   "source": [
    "metadata = read_raw_data('../data/cn_metadata.jsonl.gz')\n",
    "questions = read_raw_data('../data/cn_questions.jsonl.gz')\n",
    "reviews = read_raw_data('../data/cn_reviews.jsonl.gz')"
   ],
   "metadata": {
    "collapsed": false,
    "ExecuteTime": {
     "end_time": "2025-03-05T11:41:26.003261Z",
     "start_time": "2025-03-05T11:41:20.179331Z"
    }
   },
   "id": "5d5fc3f3c0c13fc1"
  },
  {
   "cell_type": "code",
   "execution_count": 9,
   "outputs": [
    {
     "data": {
      "text/plain": "         asin                                              title  \\\n0  1607745232  Simple Thai Food: Classic Recipes from the Tha...   \n1  1934968404                              Grade 2 Word Problems   \n2  1603208054             The PEOPLE Celebrity Puzzler Superbook   \n3  1935703005             My First Superman Book: Touch and Feel   \n4  B01548K4NA  iPhone 5S 保护套3d Liquid Brilliant 奢华闪亮 Liquid 浮...   \n\n  averageRating ratingCount amazon_badge  \\\n0          None                            \n1          None                            \n2          None                            \n3          None                            \n4          None                            \n\n                                          ratingDist ratingByFeature price  \\\n0  {'5': '0%', '4': '0%', '3': '0%', '2': '0%', '...              {}         \n1  {'5': '0%', '4': '0%', '3': '0%', '2': '0%', '...              {}         \n2  {'5': '0%', '4': '0%', '3': '0%', '2': '0%', '...              {}         \n3  {'5': '0%', '4': '0%', '3': '0%', '2': '0%', '...              {}         \n4  {'5': '0%', '4': '0%', '3': '0%', '2': '0%', '...              {}         \n\n                                              imgUrl  \\\n0                                                 []   \n1                                                 []   \n2                                                 []   \n3                                                 []   \n4  {\"https://images-cn.ssl-images-amazon.cn/image...   \n\n                                             related  \\\n0  {'sponsored': [], 'alsoBought': [], 'alsoViewe...   \n1  {'sponsored': [], 'alsoBought': [], 'alsoViewe...   \n2  {'sponsored': [], 'alsoBought': [], 'alsoViewe...   \n3  {'sponsored': [], 'alsoBought': [], 'alsoViewe...   \n4  {'sponsored': [], 'alsoBought': [], 'alsoViewe...   \n\n                                      productDetails  \\\n0                                                 {}   \n1                                                 {}   \n2                                                 {}   \n3                                                 {}   \n4  {'商品尺寸': '13.31 x 6.3 x 1.5 cm; 9.07 克', '产品颜色...   \n\n                                          sellerPage  \\\n0                                                      \n1                                                      \n2                                                      \n3                                                      \n4  /s/ref=bl_dp_s_web_0?ie=UTF8&search-alias=aps&...   \n\n                   categories  \\\n0                  [图书, 进口原版]   \n1                  [图书, 进口原版]   \n2                  [图书, 进口原版]   \n3                  [图书, 进口原版]   \n4  [手机通讯, 手机配件, 保护壳、保护套, 保护壳]   \n\n                                         description overviewFeatures  \\\n0                                                                  {}   \n1                                                                  {}   \n2                                                                  {}   \n3                                                                  {}   \n4  兼容型号 iphone 5 / 5S 和 iPhone SE其设计使我们的护套更有用您可以访...               {}   \n\n                                            features reviewFilters  \n0                                                 []            []  \n1                                                 []            []  \n2                                                 []            []  \n3                                                 []            []  \n4  [适用机型 iPhone 5 / 5S 和 iPhone SE 只, 状态100% 全新高品...            []  ",
      "text/html": "<div>\n<style scoped>\n    .dataframe tbody tr th:only-of-type {\n        vertical-align: middle;\n    }\n\n    .dataframe tbody tr th {\n        vertical-align: top;\n    }\n\n    .dataframe thead th {\n        text-align: right;\n    }\n</style>\n<table border=\"1\" class=\"dataframe\">\n  <thead>\n    <tr style=\"text-align: right;\">\n      <th></th>\n      <th>asin</th>\n      <th>title</th>\n      <th>averageRating</th>\n      <th>ratingCount</th>\n      <th>amazon_badge</th>\n      <th>ratingDist</th>\n      <th>ratingByFeature</th>\n      <th>price</th>\n      <th>imgUrl</th>\n      <th>related</th>\n      <th>productDetails</th>\n      <th>sellerPage</th>\n      <th>categories</th>\n      <th>description</th>\n      <th>overviewFeatures</th>\n      <th>features</th>\n      <th>reviewFilters</th>\n    </tr>\n  </thead>\n  <tbody>\n    <tr>\n      <th>0</th>\n      <td>1607745232</td>\n      <td>Simple Thai Food: Classic Recipes from the Tha...</td>\n      <td>None</td>\n      <td></td>\n      <td></td>\n      <td>{'5': '0%', '4': '0%', '3': '0%', '2': '0%', '...</td>\n      <td>{}</td>\n      <td></td>\n      <td>[]</td>\n      <td>{'sponsored': [], 'alsoBought': [], 'alsoViewe...</td>\n      <td>{}</td>\n      <td></td>\n      <td>[图书, 进口原版]</td>\n      <td></td>\n      <td>{}</td>\n      <td>[]</td>\n      <td>[]</td>\n    </tr>\n    <tr>\n      <th>1</th>\n      <td>1934968404</td>\n      <td>Grade 2 Word Problems</td>\n      <td>None</td>\n      <td></td>\n      <td></td>\n      <td>{'5': '0%', '4': '0%', '3': '0%', '2': '0%', '...</td>\n      <td>{}</td>\n      <td></td>\n      <td>[]</td>\n      <td>{'sponsored': [], 'alsoBought': [], 'alsoViewe...</td>\n      <td>{}</td>\n      <td></td>\n      <td>[图书, 进口原版]</td>\n      <td></td>\n      <td>{}</td>\n      <td>[]</td>\n      <td>[]</td>\n    </tr>\n    <tr>\n      <th>2</th>\n      <td>1603208054</td>\n      <td>The PEOPLE Celebrity Puzzler Superbook</td>\n      <td>None</td>\n      <td></td>\n      <td></td>\n      <td>{'5': '0%', '4': '0%', '3': '0%', '2': '0%', '...</td>\n      <td>{}</td>\n      <td></td>\n      <td>[]</td>\n      <td>{'sponsored': [], 'alsoBought': [], 'alsoViewe...</td>\n      <td>{}</td>\n      <td></td>\n      <td>[图书, 进口原版]</td>\n      <td></td>\n      <td>{}</td>\n      <td>[]</td>\n      <td>[]</td>\n    </tr>\n    <tr>\n      <th>3</th>\n      <td>1935703005</td>\n      <td>My First Superman Book: Touch and Feel</td>\n      <td>None</td>\n      <td></td>\n      <td></td>\n      <td>{'5': '0%', '4': '0%', '3': '0%', '2': '0%', '...</td>\n      <td>{}</td>\n      <td></td>\n      <td>[]</td>\n      <td>{'sponsored': [], 'alsoBought': [], 'alsoViewe...</td>\n      <td>{}</td>\n      <td></td>\n      <td>[图书, 进口原版]</td>\n      <td></td>\n      <td>{}</td>\n      <td>[]</td>\n      <td>[]</td>\n    </tr>\n    <tr>\n      <th>4</th>\n      <td>B01548K4NA</td>\n      <td>iPhone 5S 保护套3d Liquid Brilliant 奢华闪亮 Liquid 浮...</td>\n      <td>None</td>\n      <td></td>\n      <td></td>\n      <td>{'5': '0%', '4': '0%', '3': '0%', '2': '0%', '...</td>\n      <td>{}</td>\n      <td></td>\n      <td>{\"https://images-cn.ssl-images-amazon.cn/image...</td>\n      <td>{'sponsored': [], 'alsoBought': [], 'alsoViewe...</td>\n      <td>{'商品尺寸': '13.31 x 6.3 x 1.5 cm; 9.07 克', '产品颜色...</td>\n      <td>/s/ref=bl_dp_s_web_0?ie=UTF8&amp;search-alias=aps&amp;...</td>\n      <td>[手机通讯, 手机配件, 保护壳、保护套, 保护壳]</td>\n      <td>兼容型号 iphone 5 / 5S 和 iPhone SE其设计使我们的护套更有用您可以访...</td>\n      <td>{}</td>\n      <td>[适用机型 iPhone 5 / 5S 和 iPhone SE 只, 状态100% 全新高品...</td>\n      <td>[]</td>\n    </tr>\n  </tbody>\n</table>\n</div>"
     },
     "execution_count": 9,
     "metadata": {},
     "output_type": "execute_result"
    }
   ],
   "source": [
    "metadata.head()"
   ],
   "metadata": {
    "collapsed": false,
    "ExecuteTime": {
     "end_time": "2025-03-05T11:41:29.228397Z",
     "start_time": "2025-03-05T11:41:29.214482Z"
    }
   },
   "id": "86aa43853132f133"
  },
  {
   "cell_type": "code",
   "execution_count": 10,
   "outputs": [
    {
     "data": {
      "text/plain": "             question                     topAnswer        asin topAnswerUser  \\\n0   和另一款50辆的套装有什么区别啊？  这车全系有250量。每个50套装里的车各不相同。仅此而已  B00IVP16ZE            向东   \n1        有几个批次，我想要不同的                                B00IVP16ZE                 \n2  和我年初买的很多重复，还有其它款吗？                                B00IVP16ZE                 \n3   有几批盒子，我定了两盒都是一样的。                                B00IVP16ZE                 \n4          小车大概尺寸是多少？           和风火轮的差不多，比国内卖的便宜不少。  B00IVP16ZE             支   \n\n                topAnswerUserId badges  votes               id  answerCount  \\\n0  AGIDZLXS3626XOWLWUAXSHPQQUZA     []      0  Tx16TUQSARTHTG1            2   \n1                                   []      0  Tx1G1OTCFFP9M77            0   \n2                                   []      0  Tx2UTU7JDTR6KBJ            0   \n3                                   []      0  Tx2UX5HKW821QMK            0   \n4  AGS7ZL3EXTDQ5YQVXZMIX5M7F5FQ     []      0  Tx2WY78QB7USDQA            3   \n\n   questionOrder  answerTime  \n0              0  2016年7月26日  \n1              1              \n2              2              \n3              3              \n4              4   2016年3月1日  ",
      "text/html": "<div>\n<style scoped>\n    .dataframe tbody tr th:only-of-type {\n        vertical-align: middle;\n    }\n\n    .dataframe tbody tr th {\n        vertical-align: top;\n    }\n\n    .dataframe thead th {\n        text-align: right;\n    }\n</style>\n<table border=\"1\" class=\"dataframe\">\n  <thead>\n    <tr style=\"text-align: right;\">\n      <th></th>\n      <th>question</th>\n      <th>topAnswer</th>\n      <th>asin</th>\n      <th>topAnswerUser</th>\n      <th>topAnswerUserId</th>\n      <th>badges</th>\n      <th>votes</th>\n      <th>id</th>\n      <th>answerCount</th>\n      <th>questionOrder</th>\n      <th>answerTime</th>\n    </tr>\n  </thead>\n  <tbody>\n    <tr>\n      <th>0</th>\n      <td>和另一款50辆的套装有什么区别啊？</td>\n      <td>这车全系有250量。每个50套装里的车各不相同。仅此而已</td>\n      <td>B00IVP16ZE</td>\n      <td>向东</td>\n      <td>AGIDZLXS3626XOWLWUAXSHPQQUZA</td>\n      <td>[]</td>\n      <td>0</td>\n      <td>Tx16TUQSARTHTG1</td>\n      <td>2</td>\n      <td>0</td>\n      <td>2016年7月26日</td>\n    </tr>\n    <tr>\n      <th>1</th>\n      <td>有几个批次，我想要不同的</td>\n      <td></td>\n      <td>B00IVP16ZE</td>\n      <td></td>\n      <td></td>\n      <td>[]</td>\n      <td>0</td>\n      <td>Tx1G1OTCFFP9M77</td>\n      <td>0</td>\n      <td>1</td>\n      <td></td>\n    </tr>\n    <tr>\n      <th>2</th>\n      <td>和我年初买的很多重复，还有其它款吗？</td>\n      <td></td>\n      <td>B00IVP16ZE</td>\n      <td></td>\n      <td></td>\n      <td>[]</td>\n      <td>0</td>\n      <td>Tx2UTU7JDTR6KBJ</td>\n      <td>0</td>\n      <td>2</td>\n      <td></td>\n    </tr>\n    <tr>\n      <th>3</th>\n      <td>有几批盒子，我定了两盒都是一样的。</td>\n      <td></td>\n      <td>B00IVP16ZE</td>\n      <td></td>\n      <td></td>\n      <td>[]</td>\n      <td>0</td>\n      <td>Tx2UX5HKW821QMK</td>\n      <td>0</td>\n      <td>3</td>\n      <td></td>\n    </tr>\n    <tr>\n      <th>4</th>\n      <td>小车大概尺寸是多少？</td>\n      <td>和风火轮的差不多，比国内卖的便宜不少。</td>\n      <td>B00IVP16ZE</td>\n      <td>支</td>\n      <td>AGS7ZL3EXTDQ5YQVXZMIX5M7F5FQ</td>\n      <td>[]</td>\n      <td>0</td>\n      <td>Tx2WY78QB7USDQA</td>\n      <td>3</td>\n      <td>4</td>\n      <td>2016年3月1日</td>\n    </tr>\n  </tbody>\n</table>\n</div>"
     },
     "execution_count": 10,
     "metadata": {},
     "output_type": "execute_result"
    }
   ],
   "source": [
    "questions.head()"
   ],
   "metadata": {
    "collapsed": false,
    "ExecuteTime": {
     "end_time": "2025-03-05T11:41:53.126237Z",
     "start_time": "2025-03-05T11:41:53.122238Z"
    }
   },
   "id": "2c569322abcf3b94"
  },
  {
   "cell_type": "code",
   "execution_count": 11,
   "outputs": [
    {
     "data": {
      "text/plain": "                     reviewerID reviewerName        asin vote  commentsCount  \\\n0  AHHTSL4K56WKPHNECT7XD23NGOEA        亚马逊买家  B00UFK89YY                   0   \n1  AGR3C2UUI7ZWGUFHEJ7THCX6ULTA        亚马逊买家  B00UFK89YY                   0   \n2  AFSMOMDAAQY4F3ZL5QWVQE6GAGHQ         冒牌天神  B00T3IZ3IE    1              0   \n3  AEZXHQFFRSWFERQIFSCC5PM54KZQ        只淘好东东  B00T3IZ3IE                   0   \n4  AFMGXHNVJA5LA5RC62DHI5ULBTPA     Stardust  B00T3IZ3IE                   0   \n\n                                          reviewText  overall        badges  \\\n0                                     这是在亚马孙购买最失败的一次        3            []   \n1            大小合适，没有想象中那样的质感，不过总体还行，应该会越旧越好看。有很大的异味。        2            []   \n2  首先是性价比很高，美亚六百出头的价格就能买到这样一双国内价格一千多的靴子；其次鞋型很漂亮，很...        5  [前 500 名评论人]   \n3                   穿上不舒服，很硬。显得脚很长。38的脚买了37、5码，大了一指。        2            []   \n4      质量没得说，也好看，就是鞋子略长。。。看楼上评论我平时38买的7.5，穿上大一指。就是长啊        4            []   \n\n   verified  summary image style  reviewTime  reviewOrder  \n0      True   比想想差太多    []    {}   2019年4月9日            0  \n1      True     比较满意    []    {}   2018年5月8日            1  \n2      True    值得推荐！    []    {}  2016年2月14日            0  \n3      True       偏大    []    {}  2016年3月10日            1  \n4      True  好鞋。质量不错    []    {}  2016年2月19日            2  ",
      "text/html": "<div>\n<style scoped>\n    .dataframe tbody tr th:only-of-type {\n        vertical-align: middle;\n    }\n\n    .dataframe tbody tr th {\n        vertical-align: top;\n    }\n\n    .dataframe thead th {\n        text-align: right;\n    }\n</style>\n<table border=\"1\" class=\"dataframe\">\n  <thead>\n    <tr style=\"text-align: right;\">\n      <th></th>\n      <th>reviewerID</th>\n      <th>reviewerName</th>\n      <th>asin</th>\n      <th>vote</th>\n      <th>commentsCount</th>\n      <th>reviewText</th>\n      <th>overall</th>\n      <th>badges</th>\n      <th>verified</th>\n      <th>summary</th>\n      <th>image</th>\n      <th>style</th>\n      <th>reviewTime</th>\n      <th>reviewOrder</th>\n    </tr>\n  </thead>\n  <tbody>\n    <tr>\n      <th>0</th>\n      <td>AHHTSL4K56WKPHNECT7XD23NGOEA</td>\n      <td>亚马逊买家</td>\n      <td>B00UFK89YY</td>\n      <td></td>\n      <td>0</td>\n      <td>这是在亚马孙购买最失败的一次</td>\n      <td>3</td>\n      <td>[]</td>\n      <td>True</td>\n      <td>比想想差太多</td>\n      <td>[]</td>\n      <td>{}</td>\n      <td>2019年4月9日</td>\n      <td>0</td>\n    </tr>\n    <tr>\n      <th>1</th>\n      <td>AGR3C2UUI7ZWGUFHEJ7THCX6ULTA</td>\n      <td>亚马逊买家</td>\n      <td>B00UFK89YY</td>\n      <td></td>\n      <td>0</td>\n      <td>大小合适，没有想象中那样的质感，不过总体还行，应该会越旧越好看。有很大的异味。</td>\n      <td>2</td>\n      <td>[]</td>\n      <td>True</td>\n      <td>比较满意</td>\n      <td>[]</td>\n      <td>{}</td>\n      <td>2018年5月8日</td>\n      <td>1</td>\n    </tr>\n    <tr>\n      <th>2</th>\n      <td>AFSMOMDAAQY4F3ZL5QWVQE6GAGHQ</td>\n      <td>冒牌天神</td>\n      <td>B00T3IZ3IE</td>\n      <td>1</td>\n      <td>0</td>\n      <td>首先是性价比很高，美亚六百出头的价格就能买到这样一双国内价格一千多的靴子；其次鞋型很漂亮，很...</td>\n      <td>5</td>\n      <td>[前 500 名评论人]</td>\n      <td>True</td>\n      <td>值得推荐！</td>\n      <td>[]</td>\n      <td>{}</td>\n      <td>2016年2月14日</td>\n      <td>0</td>\n    </tr>\n    <tr>\n      <th>3</th>\n      <td>AEZXHQFFRSWFERQIFSCC5PM54KZQ</td>\n      <td>只淘好东东</td>\n      <td>B00T3IZ3IE</td>\n      <td></td>\n      <td>0</td>\n      <td>穿上不舒服，很硬。显得脚很长。38的脚买了37、5码，大了一指。</td>\n      <td>2</td>\n      <td>[]</td>\n      <td>True</td>\n      <td>偏大</td>\n      <td>[]</td>\n      <td>{}</td>\n      <td>2016年3月10日</td>\n      <td>1</td>\n    </tr>\n    <tr>\n      <th>4</th>\n      <td>AFMGXHNVJA5LA5RC62DHI5ULBTPA</td>\n      <td>Stardust</td>\n      <td>B00T3IZ3IE</td>\n      <td></td>\n      <td>0</td>\n      <td>质量没得说，也好看，就是鞋子略长。。。看楼上评论我平时38买的7.5，穿上大一指。就是长啊</td>\n      <td>4</td>\n      <td>[]</td>\n      <td>True</td>\n      <td>好鞋。质量不错</td>\n      <td>[]</td>\n      <td>{}</td>\n      <td>2016年2月19日</td>\n      <td>2</td>\n    </tr>\n  </tbody>\n</table>\n</div>"
     },
     "execution_count": 11,
     "metadata": {},
     "output_type": "execute_result"
    }
   ],
   "source": [
    "reviews.head()"
   ],
   "metadata": {
    "collapsed": false,
    "ExecuteTime": {
     "end_time": "2025-03-05T11:42:12.381027Z",
     "start_time": "2025-03-05T11:42:12.375329Z"
    }
   },
   "id": "81055275b6651e2"
  },
  {
   "cell_type": "code",
   "execution_count": 13,
   "outputs": [
    {
     "data": {
      "text/plain": "((169403, 17), (10395, 11), (44482, 14))"
     },
     "execution_count": 13,
     "metadata": {},
     "output_type": "execute_result"
    }
   ],
   "source": [
    "metadata.shape, questions.shape, reviews.shape"
   ],
   "metadata": {
    "collapsed": false,
    "ExecuteTime": {
     "end_time": "2025-03-05T11:42:36.277446Z",
     "start_time": "2025-03-05T11:42:36.273619Z"
    }
   },
   "id": "b60214fc04e8cb7f"
  },
  {
   "cell_type": "code",
   "execution_count": 14,
   "outputs": [
    {
     "data": {
      "text/plain": "categories\n[图书, 进口原版]                    13732\n[手机通讯, 手机配件, 保护壳、保护套, 保护壳]    11161\n[]                             9402\n[手机通讯, 手机配件, 贴膜]               2160\n[数码影音, 耳机及配件, 耳机]              1384\n                              ...  \n[个护健康, 保健生活用品, 保健护具, 护踝]          1\n[厨具, 锅具壶具, 炖盅]                    1\n[图书, 外语学习]                        1\n[服饰箱包, 男装, 内衣, 保暖内衣]              1\n[玩具, 玩具车、惯性车, 玩具飞机]               1\nName: count, Length: 4693, dtype: int64"
     },
     "execution_count": 14,
     "metadata": {},
     "output_type": "execute_result"
    }
   ],
   "source": [
    "metadata['categories'].value_counts()"
   ],
   "metadata": {
    "collapsed": false,
    "ExecuteTime": {
     "end_time": "2025-03-05T11:43:22.557962Z",
     "start_time": "2025-03-05T11:43:22.552057Z"
    }
   },
   "id": "94d052080c65b85f"
  },
  {
   "cell_type": "code",
   "execution_count": 18,
   "outputs": [],
   "source": [
    "solved_answers = questions[questions['topAnswer'] != '']"
   ],
   "metadata": {
    "collapsed": false,
    "ExecuteTime": {
     "end_time": "2025-03-05T11:46:12.633075Z",
     "start_time": "2025-03-05T11:46:12.628497Z"
    }
   },
   "id": "e4b8004701a25121"
  },
  {
   "cell_type": "code",
   "execution_count": 19,
   "outputs": [
    {
     "data": {
      "text/plain": "((6241, 11), (10395, 11))"
     },
     "execution_count": 19,
     "metadata": {},
     "output_type": "execute_result"
    }
   ],
   "source": [
    "solved_answers.shape, questions.shape"
   ],
   "metadata": {
    "collapsed": false,
    "ExecuteTime": {
     "end_time": "2025-03-05T11:46:13.049803Z",
     "start_time": "2025-03-05T11:46:13.045863Z"
    }
   },
   "id": "6ad828a6c1f2483d"
  },
  {
   "cell_type": "code",
   "execution_count": 20,
   "outputs": [
    {
     "data": {
      "text/plain": "                                     question  \\\n0                           和另一款50辆的套装有什么区别啊？   \n4                                  小车大概尺寸是多少？   \n5                          这是哪一年的款？15年还是16年的？   \n7      拼装的时候儿子不小心弄坏了一个关键的B12零件, 能单独购买吗?有转让的吗?   \n8                      owi是否需要大太阳才行？有云的天气就不行？   \n...                                       ...   \n10388                             请问这款保护外壳带膜吗   \n10389                                    厚度多少   \n10390                             身高175cm腰围32   \n10392                 身高170cm，腰围33英寸，穿什么尺码合适？   \n10393                                中号是什么尺码？   \n\n                                               topAnswer        asin  \\\n0                           这车全系有250量。每个50套装里的车各不相同。仅此而已  B00IVP16ZE   \n4                                    和风火轮的差不多，比国内卖的便宜不少。  B00IVP16ZE   \n5                                       应该是15年的，以前的好像缺货。  B00IVP16ZE   \n7                                           通关资料没提供，还没收到  B00JDVIPOU   \n8                                      差不多这样吧，太阳不大就走不动了。  B00JDVIPOU   \n...                                                  ...         ...   \n10388                                 不带保护膜的，不过感觉质量还是不错的  B010MVQMY4   \n10389                                比手机厚0.4mm啊，它们照片上有啊。  B010MVQMY4   \n10390                                  腰部是可以调的，喜欢肥大的m即可。  B004CK739A   \n10392                          根据您的身高和腰围，建议您可以选择medium尺码  B004CK739A   \n10393  您好   这款海外购Arctix裤子M码腰围是32-34英寸，大约是81.28厘米-86.3...  B004CK739A   \n\n         topAnswerUser               topAnswerUserId badges  votes  \\\n0                   向东  AGIDZLXS3626XOWLWUAXSHPQQUZA     []      0   \n4                    支  AGS7ZL3EXTDQ5YQVXZMIX5M7F5FQ     []      0   \n5           pangzi1585  AGYLW2OUMHBXY23FS5CQD5PNQNDQ     []      0   \n7      Amazon Customer  AH3XOU3F2EPD7DTOHAMFXUOEFS6A     []      0   \n8                亚马逊买家  AHOQERHEYRZYZENEVS4YAG6R23TA     []     -5   \n...                ...                           ...    ...    ...   \n10388           奋斗中的狮子  AELHI5WUGLQ5343OFZPNFIY4IGXQ     []      0   \n10389        wayne0327  AFJRNZYCN27AOI5MXP6PXTWSTGFA     []      0   \n10390            亚马逊买家  AFXPG3GM26W6OTZ24FJOZYZTAJXA     []      0   \n10392            亚马逊美国                                 [卖家]      0   \n10393            亚马逊买家                                   []      0   \n\n                    id  answerCount  questionOrder   answerTime  \n0      Tx16TUQSARTHTG1            2              0   2016年7月26日  \n4      Tx2WY78QB7USDQA            3              4    2016年3月1日  \n5      Tx3CLHCT0QO5874            2              5   2016年9月27日  \n7       TxUW2U91H6BAF3            3             10   2015年12月3日  \n8       TxI95CUSWEHT3K            6             11   2015年12月4日  \n...                ...          ...            ...          ...  \n10388   Tx7OY8MAIQVIRA            8              8  2015年12月16日  \n10389   TxP9JBV6IUHZMU            5              9   2016年5月20日  \n10390  Tx1C64Q04W1J1EG            0              0    2018年2月2日  \n10392  Tx2DXB6TO8F7FZ8            0              2  2016年12月28日  \n10393  Tx3OL8Y8GKB0Y4I            0              3   2017年9月14日  \n\n[6241 rows x 11 columns]",
      "text/html": "<div>\n<style scoped>\n    .dataframe tbody tr th:only-of-type {\n        vertical-align: middle;\n    }\n\n    .dataframe tbody tr th {\n        vertical-align: top;\n    }\n\n    .dataframe thead th {\n        text-align: right;\n    }\n</style>\n<table border=\"1\" class=\"dataframe\">\n  <thead>\n    <tr style=\"text-align: right;\">\n      <th></th>\n      <th>question</th>\n      <th>topAnswer</th>\n      <th>asin</th>\n      <th>topAnswerUser</th>\n      <th>topAnswerUserId</th>\n      <th>badges</th>\n      <th>votes</th>\n      <th>id</th>\n      <th>answerCount</th>\n      <th>questionOrder</th>\n      <th>answerTime</th>\n    </tr>\n  </thead>\n  <tbody>\n    <tr>\n      <th>0</th>\n      <td>和另一款50辆的套装有什么区别啊？</td>\n      <td>这车全系有250量。每个50套装里的车各不相同。仅此而已</td>\n      <td>B00IVP16ZE</td>\n      <td>向东</td>\n      <td>AGIDZLXS3626XOWLWUAXSHPQQUZA</td>\n      <td>[]</td>\n      <td>0</td>\n      <td>Tx16TUQSARTHTG1</td>\n      <td>2</td>\n      <td>0</td>\n      <td>2016年7月26日</td>\n    </tr>\n    <tr>\n      <th>4</th>\n      <td>小车大概尺寸是多少？</td>\n      <td>和风火轮的差不多，比国内卖的便宜不少。</td>\n      <td>B00IVP16ZE</td>\n      <td>支</td>\n      <td>AGS7ZL3EXTDQ5YQVXZMIX5M7F5FQ</td>\n      <td>[]</td>\n      <td>0</td>\n      <td>Tx2WY78QB7USDQA</td>\n      <td>3</td>\n      <td>4</td>\n      <td>2016年3月1日</td>\n    </tr>\n    <tr>\n      <th>5</th>\n      <td>这是哪一年的款？15年还是16年的？</td>\n      <td>应该是15年的，以前的好像缺货。</td>\n      <td>B00IVP16ZE</td>\n      <td>pangzi1585</td>\n      <td>AGYLW2OUMHBXY23FS5CQD5PNQNDQ</td>\n      <td>[]</td>\n      <td>0</td>\n      <td>Tx3CLHCT0QO5874</td>\n      <td>2</td>\n      <td>5</td>\n      <td>2016年9月27日</td>\n    </tr>\n    <tr>\n      <th>7</th>\n      <td>拼装的时候儿子不小心弄坏了一个关键的B12零件, 能单独购买吗?有转让的吗?</td>\n      <td>通关资料没提供，还没收到</td>\n      <td>B00JDVIPOU</td>\n      <td>Amazon Customer</td>\n      <td>AH3XOU3F2EPD7DTOHAMFXUOEFS6A</td>\n      <td>[]</td>\n      <td>0</td>\n      <td>TxUW2U91H6BAF3</td>\n      <td>3</td>\n      <td>10</td>\n      <td>2015年12月3日</td>\n    </tr>\n    <tr>\n      <th>8</th>\n      <td>owi是否需要大太阳才行？有云的天气就不行？</td>\n      <td>差不多这样吧，太阳不大就走不动了。</td>\n      <td>B00JDVIPOU</td>\n      <td>亚马逊买家</td>\n      <td>AHOQERHEYRZYZENEVS4YAG6R23TA</td>\n      <td>[]</td>\n      <td>-5</td>\n      <td>TxI95CUSWEHT3K</td>\n      <td>6</td>\n      <td>11</td>\n      <td>2015年12月4日</td>\n    </tr>\n    <tr>\n      <th>...</th>\n      <td>...</td>\n      <td>...</td>\n      <td>...</td>\n      <td>...</td>\n      <td>...</td>\n      <td>...</td>\n      <td>...</td>\n      <td>...</td>\n      <td>...</td>\n      <td>...</td>\n      <td>...</td>\n    </tr>\n    <tr>\n      <th>10388</th>\n      <td>请问这款保护外壳带膜吗</td>\n      <td>不带保护膜的，不过感觉质量还是不错的</td>\n      <td>B010MVQMY4</td>\n      <td>奋斗中的狮子</td>\n      <td>AELHI5WUGLQ5343OFZPNFIY4IGXQ</td>\n      <td>[]</td>\n      <td>0</td>\n      <td>Tx7OY8MAIQVIRA</td>\n      <td>8</td>\n      <td>8</td>\n      <td>2015年12月16日</td>\n    </tr>\n    <tr>\n      <th>10389</th>\n      <td>厚度多少</td>\n      <td>比手机厚0.4mm啊，它们照片上有啊。</td>\n      <td>B010MVQMY4</td>\n      <td>wayne0327</td>\n      <td>AFJRNZYCN27AOI5MXP6PXTWSTGFA</td>\n      <td>[]</td>\n      <td>0</td>\n      <td>TxP9JBV6IUHZMU</td>\n      <td>5</td>\n      <td>9</td>\n      <td>2016年5月20日</td>\n    </tr>\n    <tr>\n      <th>10390</th>\n      <td>身高175cm腰围32</td>\n      <td>腰部是可以调的，喜欢肥大的m即可。</td>\n      <td>B004CK739A</td>\n      <td>亚马逊买家</td>\n      <td>AFXPG3GM26W6OTZ24FJOZYZTAJXA</td>\n      <td>[]</td>\n      <td>0</td>\n      <td>Tx1C64Q04W1J1EG</td>\n      <td>0</td>\n      <td>0</td>\n      <td>2018年2月2日</td>\n    </tr>\n    <tr>\n      <th>10392</th>\n      <td>身高170cm，腰围33英寸，穿什么尺码合适？</td>\n      <td>根据您的身高和腰围，建议您可以选择medium尺码</td>\n      <td>B004CK739A</td>\n      <td>亚马逊美国</td>\n      <td></td>\n      <td>[卖家]</td>\n      <td>0</td>\n      <td>Tx2DXB6TO8F7FZ8</td>\n      <td>0</td>\n      <td>2</td>\n      <td>2016年12月28日</td>\n    </tr>\n    <tr>\n      <th>10393</th>\n      <td>中号是什么尺码？</td>\n      <td>您好   这款海外购Arctix裤子M码腰围是32-34英寸，大约是81.28厘米-86.3...</td>\n      <td>B004CK739A</td>\n      <td>亚马逊买家</td>\n      <td></td>\n      <td>[]</td>\n      <td>0</td>\n      <td>Tx3OL8Y8GKB0Y4I</td>\n      <td>0</td>\n      <td>3</td>\n      <td>2017年9月14日</td>\n    </tr>\n  </tbody>\n</table>\n<p>6241 rows × 11 columns</p>\n</div>"
     },
     "execution_count": 20,
     "metadata": {},
     "output_type": "execute_result"
    }
   ],
   "source": [
    "solved_answers"
   ],
   "metadata": {
    "collapsed": false,
    "ExecuteTime": {
     "end_time": "2025-03-05T11:46:33.089165Z",
     "start_time": "2025-03-05T11:46:33.079749Z"
    }
   },
   "id": "9e2db30153d915f6"
  },
  {
   "cell_type": "code",
   "execution_count": 21,
   "outputs": [
    {
     "ename": "KeyboardInterrupt",
     "evalue": "",
     "output_type": "error",
     "traceback": [
      "\u001B[0;31m---------------------------------------------------------------------------\u001B[0m",
      "\u001B[0;31mKeyboardInterrupt\u001B[0m                         Traceback (most recent call last)",
      "Cell \u001B[0;32mIn[21], line 1\u001B[0m\n\u001B[0;32m----> 1\u001B[0m us_questions \u001B[38;5;241m=\u001B[39m read_raw_data(\u001B[38;5;124m'\u001B[39m\u001B[38;5;124m../data/us_questions.jsonl.gz\u001B[39m\u001B[38;5;124m'\u001B[39m)\n",
      "Cell \u001B[0;32mIn[7], line 4\u001B[0m, in \u001B[0;36mread_raw_data\u001B[0;34m(file)\u001B[0m\n\u001B[1;32m      3\u001B[0m \u001B[38;5;28;01mdef\u001B[39;00m \u001B[38;5;21mread_raw_data\u001B[39m(file):\n\u001B[0;32m----> 4\u001B[0m     df \u001B[38;5;241m=\u001B[39m pd\u001B[38;5;241m.\u001B[39mread_json(file, lines\u001B[38;5;241m=\u001B[39m\u001B[38;5;28;01mTrue\u001B[39;00m, compression\u001B[38;5;241m=\u001B[39m\u001B[38;5;124m'\u001B[39m\u001B[38;5;124mgzip\u001B[39m\u001B[38;5;124m'\u001B[39m, encoding\u001B[38;5;241m=\u001B[39m\u001B[38;5;124m'\u001B[39m\u001B[38;5;124mutf-8\u001B[39m\u001B[38;5;124m'\u001B[39m)\n\u001B[1;32m      5\u001B[0m     \u001B[38;5;28;01mreturn\u001B[39;00m df\n",
      "File \u001B[0;32m~/anaconda3/lib/python3.11/site-packages/pandas/io/json/_json.py:815\u001B[0m, in \u001B[0;36mread_json\u001B[0;34m(path_or_buf, orient, typ, dtype, convert_axes, convert_dates, keep_default_dates, precise_float, date_unit, encoding, encoding_errors, lines, chunksize, compression, nrows, storage_options, dtype_backend, engine)\u001B[0m\n\u001B[1;32m    813\u001B[0m     \u001B[38;5;28;01mreturn\u001B[39;00m json_reader\n\u001B[1;32m    814\u001B[0m \u001B[38;5;28;01melse\u001B[39;00m:\n\u001B[0;32m--> 815\u001B[0m     \u001B[38;5;28;01mreturn\u001B[39;00m json_reader\u001B[38;5;241m.\u001B[39mread()\n",
      "File \u001B[0;32m~/anaconda3/lib/python3.11/site-packages/pandas/io/json/_json.py:1023\u001B[0m, in \u001B[0;36mJsonReader.read\u001B[0;34m(self)\u001B[0m\n\u001B[1;32m   1021\u001B[0m         data \u001B[38;5;241m=\u001B[39m ensure_str(\u001B[38;5;28mself\u001B[39m\u001B[38;5;241m.\u001B[39mdata)\n\u001B[1;32m   1022\u001B[0m         data_lines \u001B[38;5;241m=\u001B[39m data\u001B[38;5;241m.\u001B[39msplit(\u001B[38;5;124m\"\u001B[39m\u001B[38;5;130;01m\\n\u001B[39;00m\u001B[38;5;124m\"\u001B[39m)\n\u001B[0;32m-> 1023\u001B[0m         obj \u001B[38;5;241m=\u001B[39m \u001B[38;5;28mself\u001B[39m\u001B[38;5;241m.\u001B[39m_get_object_parser(\u001B[38;5;28mself\u001B[39m\u001B[38;5;241m.\u001B[39m_combine_lines(data_lines))\n\u001B[1;32m   1024\u001B[0m \u001B[38;5;28;01melse\u001B[39;00m:\n\u001B[1;32m   1025\u001B[0m     obj \u001B[38;5;241m=\u001B[39m \u001B[38;5;28mself\u001B[39m\u001B[38;5;241m.\u001B[39m_get_object_parser(\u001B[38;5;28mself\u001B[39m\u001B[38;5;241m.\u001B[39mdata)\n",
      "File \u001B[0;32m~/anaconda3/lib/python3.11/site-packages/pandas/io/json/_json.py:1051\u001B[0m, in \u001B[0;36mJsonReader._get_object_parser\u001B[0;34m(self, json)\u001B[0m\n\u001B[1;32m   1049\u001B[0m obj \u001B[38;5;241m=\u001B[39m \u001B[38;5;28;01mNone\u001B[39;00m\n\u001B[1;32m   1050\u001B[0m \u001B[38;5;28;01mif\u001B[39;00m typ \u001B[38;5;241m==\u001B[39m \u001B[38;5;124m\"\u001B[39m\u001B[38;5;124mframe\u001B[39m\u001B[38;5;124m\"\u001B[39m:\n\u001B[0;32m-> 1051\u001B[0m     obj \u001B[38;5;241m=\u001B[39m FrameParser(json, \u001B[38;5;241m*\u001B[39m\u001B[38;5;241m*\u001B[39mkwargs)\u001B[38;5;241m.\u001B[39mparse()\n\u001B[1;32m   1053\u001B[0m \u001B[38;5;28;01mif\u001B[39;00m typ \u001B[38;5;241m==\u001B[39m \u001B[38;5;124m\"\u001B[39m\u001B[38;5;124mseries\u001B[39m\u001B[38;5;124m\"\u001B[39m \u001B[38;5;129;01mor\u001B[39;00m obj \u001B[38;5;129;01mis\u001B[39;00m \u001B[38;5;28;01mNone\u001B[39;00m:\n\u001B[1;32m   1054\u001B[0m     \u001B[38;5;28;01mif\u001B[39;00m \u001B[38;5;129;01mnot\u001B[39;00m \u001B[38;5;28misinstance\u001B[39m(dtype, \u001B[38;5;28mbool\u001B[39m):\n",
      "File \u001B[0;32m~/anaconda3/lib/python3.11/site-packages/pandas/io/json/_json.py:1187\u001B[0m, in \u001B[0;36mParser.parse\u001B[0;34m(self)\u001B[0m\n\u001B[1;32m   1185\u001B[0m \u001B[38;5;129m@final\u001B[39m\n\u001B[1;32m   1186\u001B[0m \u001B[38;5;28;01mdef\u001B[39;00m \u001B[38;5;21mparse\u001B[39m(\u001B[38;5;28mself\u001B[39m):\n\u001B[0;32m-> 1187\u001B[0m     \u001B[38;5;28mself\u001B[39m\u001B[38;5;241m.\u001B[39m_parse()\n\u001B[1;32m   1189\u001B[0m     \u001B[38;5;28;01mif\u001B[39;00m \u001B[38;5;28mself\u001B[39m\u001B[38;5;241m.\u001B[39mobj \u001B[38;5;129;01mis\u001B[39;00m \u001B[38;5;28;01mNone\u001B[39;00m:\n\u001B[1;32m   1190\u001B[0m         \u001B[38;5;28;01mreturn\u001B[39;00m \u001B[38;5;28;01mNone\u001B[39;00m\n",
      "File \u001B[0;32m~/anaconda3/lib/python3.11/site-packages/pandas/io/json/_json.py:1402\u001B[0m, in \u001B[0;36mFrameParser._parse\u001B[0;34m(self)\u001B[0m\n\u001B[1;32m   1399\u001B[0m orient \u001B[38;5;241m=\u001B[39m \u001B[38;5;28mself\u001B[39m\u001B[38;5;241m.\u001B[39morient\n\u001B[1;32m   1401\u001B[0m \u001B[38;5;28;01mif\u001B[39;00m orient \u001B[38;5;241m==\u001B[39m \u001B[38;5;124m\"\u001B[39m\u001B[38;5;124mcolumns\u001B[39m\u001B[38;5;124m\"\u001B[39m:\n\u001B[0;32m-> 1402\u001B[0m     \u001B[38;5;28mself\u001B[39m\u001B[38;5;241m.\u001B[39mobj \u001B[38;5;241m=\u001B[39m DataFrame(\n\u001B[1;32m   1403\u001B[0m         ujson_loads(json, precise_float\u001B[38;5;241m=\u001B[39m\u001B[38;5;28mself\u001B[39m\u001B[38;5;241m.\u001B[39mprecise_float), dtype\u001B[38;5;241m=\u001B[39m\u001B[38;5;28;01mNone\u001B[39;00m\n\u001B[1;32m   1404\u001B[0m     )\n\u001B[1;32m   1405\u001B[0m \u001B[38;5;28;01melif\u001B[39;00m orient \u001B[38;5;241m==\u001B[39m \u001B[38;5;124m\"\u001B[39m\u001B[38;5;124msplit\u001B[39m\u001B[38;5;124m\"\u001B[39m:\n\u001B[1;32m   1406\u001B[0m     decoded \u001B[38;5;241m=\u001B[39m {\n\u001B[1;32m   1407\u001B[0m         \u001B[38;5;28mstr\u001B[39m(k): v\n\u001B[1;32m   1408\u001B[0m         \u001B[38;5;28;01mfor\u001B[39;00m k, v \u001B[38;5;129;01min\u001B[39;00m ujson_loads(json, precise_float\u001B[38;5;241m=\u001B[39m\u001B[38;5;28mself\u001B[39m\u001B[38;5;241m.\u001B[39mprecise_float)\u001B[38;5;241m.\u001B[39mitems()\n\u001B[1;32m   1409\u001B[0m     }\n",
      "File \u001B[0;32m~/anaconda3/lib/python3.11/site-packages/pandas/core/frame.py:859\u001B[0m, in \u001B[0;36mDataFrame.__init__\u001B[0;34m(self, data, index, columns, dtype, copy)\u001B[0m\n\u001B[1;32m    850\u001B[0m         columns \u001B[38;5;241m=\u001B[39m ensure_index(columns)\n\u001B[1;32m    851\u001B[0m     arrays, columns, index \u001B[38;5;241m=\u001B[39m nested_data_to_arrays(\n\u001B[1;32m    852\u001B[0m         \u001B[38;5;66;03m# error: Argument 3 to \"nested_data_to_arrays\" has incompatible\u001B[39;00m\n\u001B[1;32m    853\u001B[0m         \u001B[38;5;66;03m# type \"Optional[Collection[Any]]\"; expected \"Optional[Index]\"\u001B[39;00m\n\u001B[0;32m   (...)\u001B[0m\n\u001B[1;32m    857\u001B[0m         dtype,\n\u001B[1;32m    858\u001B[0m     )\n\u001B[0;32m--> 859\u001B[0m     mgr \u001B[38;5;241m=\u001B[39m arrays_to_mgr(\n\u001B[1;32m    860\u001B[0m         arrays,\n\u001B[1;32m    861\u001B[0m         columns,\n\u001B[1;32m    862\u001B[0m         index,\n\u001B[1;32m    863\u001B[0m         dtype\u001B[38;5;241m=\u001B[39mdtype,\n\u001B[1;32m    864\u001B[0m         typ\u001B[38;5;241m=\u001B[39mmanager,\n\u001B[1;32m    865\u001B[0m     )\n\u001B[1;32m    866\u001B[0m \u001B[38;5;28;01melse\u001B[39;00m:\n\u001B[1;32m    867\u001B[0m     mgr \u001B[38;5;241m=\u001B[39m ndarray_to_mgr(\n\u001B[1;32m    868\u001B[0m         data,\n\u001B[1;32m    869\u001B[0m         index,\n\u001B[0;32m   (...)\u001B[0m\n\u001B[1;32m    873\u001B[0m         typ\u001B[38;5;241m=\u001B[39mmanager,\n\u001B[1;32m    874\u001B[0m     )\n",
      "File \u001B[0;32m~/anaconda3/lib/python3.11/site-packages/pandas/core/internals/construction.py:152\u001B[0m, in \u001B[0;36marrays_to_mgr\u001B[0;34m(arrays, columns, index, dtype, verify_integrity, typ, consolidate)\u001B[0m\n\u001B[1;32m    149\u001B[0m axes \u001B[38;5;241m=\u001B[39m [columns, index]\n\u001B[1;32m    151\u001B[0m \u001B[38;5;28;01mif\u001B[39;00m typ \u001B[38;5;241m==\u001B[39m \u001B[38;5;124m\"\u001B[39m\u001B[38;5;124mblock\u001B[39m\u001B[38;5;124m\"\u001B[39m:\n\u001B[0;32m--> 152\u001B[0m     \u001B[38;5;28;01mreturn\u001B[39;00m create_block_manager_from_column_arrays(\n\u001B[1;32m    153\u001B[0m         arrays, axes, consolidate\u001B[38;5;241m=\u001B[39mconsolidate, refs\u001B[38;5;241m=\u001B[39mrefs\n\u001B[1;32m    154\u001B[0m     )\n\u001B[1;32m    155\u001B[0m \u001B[38;5;28;01melif\u001B[39;00m typ \u001B[38;5;241m==\u001B[39m \u001B[38;5;124m\"\u001B[39m\u001B[38;5;124marray\u001B[39m\u001B[38;5;124m\"\u001B[39m:\n\u001B[1;32m    156\u001B[0m     \u001B[38;5;28;01mreturn\u001B[39;00m ArrayManager(arrays, [index, columns])\n",
      "File \u001B[0;32m~/anaconda3/lib/python3.11/site-packages/pandas/core/internals/managers.py:2144\u001B[0m, in \u001B[0;36mcreate_block_manager_from_column_arrays\u001B[0;34m(arrays, axes, consolidate, refs)\u001B[0m\n\u001B[1;32m   2142\u001B[0m     raise_construction_error(\u001B[38;5;28mlen\u001B[39m(arrays), arrays[\u001B[38;5;241m0\u001B[39m]\u001B[38;5;241m.\u001B[39mshape, axes, e)\n\u001B[1;32m   2143\u001B[0m \u001B[38;5;28;01mif\u001B[39;00m consolidate:\n\u001B[0;32m-> 2144\u001B[0m     mgr\u001B[38;5;241m.\u001B[39m_consolidate_inplace()\n\u001B[1;32m   2145\u001B[0m \u001B[38;5;28;01mreturn\u001B[39;00m mgr\n",
      "File \u001B[0;32m~/anaconda3/lib/python3.11/site-packages/pandas/core/internals/managers.py:1788\u001B[0m, in \u001B[0;36mBlockManager._consolidate_inplace\u001B[0;34m(self)\u001B[0m\n\u001B[1;32m   1782\u001B[0m \u001B[38;5;28;01mdef\u001B[39;00m \u001B[38;5;21m_consolidate_inplace\u001B[39m(\u001B[38;5;28mself\u001B[39m) \u001B[38;5;241m-\u001B[39m\u001B[38;5;241m>\u001B[39m \u001B[38;5;28;01mNone\u001B[39;00m:\n\u001B[1;32m   1783\u001B[0m     \u001B[38;5;66;03m# In general, _consolidate_inplace should only be called via\u001B[39;00m\n\u001B[1;32m   1784\u001B[0m     \u001B[38;5;66;03m#  DataFrame._consolidate_inplace, otherwise we will fail to invalidate\u001B[39;00m\n\u001B[1;32m   1785\u001B[0m     \u001B[38;5;66;03m#  the DataFrame's _item_cache. The exception is for newly-created\u001B[39;00m\n\u001B[1;32m   1786\u001B[0m     \u001B[38;5;66;03m#  BlockManager objects not yet attached to a DataFrame.\u001B[39;00m\n\u001B[1;32m   1787\u001B[0m     \u001B[38;5;28;01mif\u001B[39;00m \u001B[38;5;129;01mnot\u001B[39;00m \u001B[38;5;28mself\u001B[39m\u001B[38;5;241m.\u001B[39mis_consolidated():\n\u001B[0;32m-> 1788\u001B[0m         \u001B[38;5;28mself\u001B[39m\u001B[38;5;241m.\u001B[39mblocks \u001B[38;5;241m=\u001B[39m _consolidate(\u001B[38;5;28mself\u001B[39m\u001B[38;5;241m.\u001B[39mblocks)\n\u001B[1;32m   1789\u001B[0m         \u001B[38;5;28mself\u001B[39m\u001B[38;5;241m.\u001B[39m_is_consolidated \u001B[38;5;241m=\u001B[39m \u001B[38;5;28;01mTrue\u001B[39;00m\n\u001B[1;32m   1790\u001B[0m         \u001B[38;5;28mself\u001B[39m\u001B[38;5;241m.\u001B[39m_known_consolidated \u001B[38;5;241m=\u001B[39m \u001B[38;5;28;01mTrue\u001B[39;00m\n",
      "File \u001B[0;32m~/anaconda3/lib/python3.11/site-packages/pandas/core/internals/managers.py:2269\u001B[0m, in \u001B[0;36m_consolidate\u001B[0;34m(blocks)\u001B[0m\n\u001B[1;32m   2267\u001B[0m new_blocks: \u001B[38;5;28mlist\u001B[39m[Block] \u001B[38;5;241m=\u001B[39m []\n\u001B[1;32m   2268\u001B[0m \u001B[38;5;28;01mfor\u001B[39;00m (_can_consolidate, dtype), group_blocks \u001B[38;5;129;01min\u001B[39;00m grouper:\n\u001B[0;32m-> 2269\u001B[0m     merged_blocks, _ \u001B[38;5;241m=\u001B[39m _merge_blocks(\n\u001B[1;32m   2270\u001B[0m         \u001B[38;5;28mlist\u001B[39m(group_blocks), dtype\u001B[38;5;241m=\u001B[39mdtype, can_consolidate\u001B[38;5;241m=\u001B[39m_can_consolidate\n\u001B[1;32m   2271\u001B[0m     )\n\u001B[1;32m   2272\u001B[0m     new_blocks \u001B[38;5;241m=\u001B[39m extend_blocks(merged_blocks, new_blocks)\n\u001B[1;32m   2273\u001B[0m \u001B[38;5;28;01mreturn\u001B[39;00m \u001B[38;5;28mtuple\u001B[39m(new_blocks)\n",
      "File \u001B[0;32m~/anaconda3/lib/python3.11/site-packages/pandas/core/internals/managers.py:2294\u001B[0m, in \u001B[0;36m_merge_blocks\u001B[0;34m(blocks, dtype, can_consolidate)\u001B[0m\n\u001B[1;32m   2287\u001B[0m new_values: ArrayLike\n\u001B[1;32m   2289\u001B[0m \u001B[38;5;28;01mif\u001B[39;00m \u001B[38;5;28misinstance\u001B[39m(blocks[\u001B[38;5;241m0\u001B[39m]\u001B[38;5;241m.\u001B[39mdtype, np\u001B[38;5;241m.\u001B[39mdtype):\n\u001B[1;32m   2290\u001B[0m     \u001B[38;5;66;03m# error: List comprehension has incompatible type List[Union[ndarray,\u001B[39;00m\n\u001B[1;32m   2291\u001B[0m     \u001B[38;5;66;03m# ExtensionArray]]; expected List[Union[complex, generic,\u001B[39;00m\n\u001B[1;32m   2292\u001B[0m     \u001B[38;5;66;03m# Sequence[Union[int, float, complex, str, bytes, generic]],\u001B[39;00m\n\u001B[1;32m   2293\u001B[0m     \u001B[38;5;66;03m# Sequence[Sequence[Any]], SupportsArray]]\u001B[39;00m\n\u001B[0;32m-> 2294\u001B[0m     new_values \u001B[38;5;241m=\u001B[39m np\u001B[38;5;241m.\u001B[39mvstack([b\u001B[38;5;241m.\u001B[39mvalues \u001B[38;5;28;01mfor\u001B[39;00m b \u001B[38;5;129;01min\u001B[39;00m blocks])  \u001B[38;5;66;03m# type: ignore[misc]\u001B[39;00m\n\u001B[1;32m   2295\u001B[0m \u001B[38;5;28;01melse\u001B[39;00m:\n\u001B[1;32m   2296\u001B[0m     bvals \u001B[38;5;241m=\u001B[39m [blk\u001B[38;5;241m.\u001B[39mvalues \u001B[38;5;28;01mfor\u001B[39;00m blk \u001B[38;5;129;01min\u001B[39;00m blocks]\n",
      "File \u001B[0;32m~/anaconda3/lib/python3.11/site-packages/numpy/core/shape_base.py:289\u001B[0m, in \u001B[0;36mvstack\u001B[0;34m(tup, dtype, casting)\u001B[0m\n\u001B[1;32m    287\u001B[0m \u001B[38;5;28;01mif\u001B[39;00m \u001B[38;5;129;01mnot\u001B[39;00m \u001B[38;5;28misinstance\u001B[39m(arrs, \u001B[38;5;28mlist\u001B[39m):\n\u001B[1;32m    288\u001B[0m     arrs \u001B[38;5;241m=\u001B[39m [arrs]\n\u001B[0;32m--> 289\u001B[0m \u001B[38;5;28;01mreturn\u001B[39;00m _nx\u001B[38;5;241m.\u001B[39mconcatenate(arrs, \u001B[38;5;241m0\u001B[39m, dtype\u001B[38;5;241m=\u001B[39mdtype, casting\u001B[38;5;241m=\u001B[39mcasting)\n",
      "\u001B[0;31mKeyboardInterrupt\u001B[0m: "
     ]
    }
   ],
   "source": [
    "us_questions = read_raw_data('../data/us_questions.jsonl.gz')"
   ],
   "metadata": {
    "collapsed": false,
    "ExecuteTime": {
     "end_time": "2025-03-05T11:54:36.293519Z",
     "start_time": "2025-03-05T11:52:12.765078Z"
    }
   },
   "id": "816fdc786182818a"
  },
  {
   "cell_type": "code",
   "execution_count": null,
   "outputs": [],
   "source": [],
   "metadata": {
    "collapsed": false
   },
   "id": "ded97f5184849813"
  }
 ],
 "metadata": {
  "kernelspec": {
   "display_name": "Python 3",
   "language": "python",
   "name": "python3"
  },
  "language_info": {
   "codemirror_mode": {
    "name": "ipython",
    "version": 2
   },
   "file_extension": ".py",
   "mimetype": "text/x-python",
   "name": "python",
   "nbconvert_exporter": "python",
   "pygments_lexer": "ipython2",
   "version": "2.7.6"
  }
 },
 "nbformat": 4,
 "nbformat_minor": 5
}
